{
 "cells": [
  {
   "cell_type": "markdown",
   "metadata": {},
   "source": [
    "### Answers from analysing beer review data"
   ]
  },
  {
   "cell_type": "markdown",
   "metadata": {},
   "source": [
    "##### 1. Rank top 3 Breweries which produce the strongest beers?"
   ]
  },
  {
   "cell_type": "markdown",
   "metadata": {},
   "source": [
    "According to Wikipedia - The strength of beer is measured by its alcohol content by volume expressed as a percentage, that is to say, the number of millilitres of absolute alcohol (ethanol) in 100 mL of beer. \n",
    "\n",
    "This parameter is called 'Alcohol by Volume' (ABV)\n",
    "\n",
    "Strongest Beers by ABV are - \n",
    " - Schorschbräu Schorschbock 57% (with ABV 57.70)\n",
    " - Schorschbräu Schorschbock 43% (with ABV 43.00)\n",
    " - Schorschbräu Schorschbock 40% (with ABV 39.44)"
   ]
  },
  {
   "cell_type": "markdown",
   "metadata": {},
   "source": [
    "##### 2. Which year did beers enjoy the highest ratings?"
   ]
  },
  {
   "cell_type": "markdown",
   "metadata": {},
   "source": [
    "For this we need to extract 'year' information from 'review time' column. \n",
    "\n",
    "After that we can group on 'beer name' and 'review year', then aggregate them on 'overall rating' with maximum rating\n",
    "\n",
    "Some of highest rated beers with the year they rated highest are - \n",
    "\n",
    " - Hop, Drop n Roll (2011)\n",
    " - Cantillon Kriek 100% Lambic (2008)\n",
    " - Slap & Tickle (2010)\n",
    " - Hell For Certain\t(2004)\n",
    " - Cantillon La Dernière Cuvée Du 899 (2008)"
   ]
  },
  {
   "cell_type": "markdown",
   "metadata": {},
   "source": [
    "##### 3. Based on the user’s ratings which factors are important among taste, aroma, appearance, and palette?"
   ]
  },
  {
   "cell_type": "markdown",
   "metadata": {},
   "source": [
    "Here we need to calculate correlation of 'review_aroma', 'review_appearance', 'review_palette' and 'review_taste' with 'review_overall'\n",
    "\n",
    "There is high correlation betwwen Aroma and Overall review, after that Taste has high corrlation."
   ]
  },
  {
   "cell_type": "markdown",
   "metadata": {},
   "source": [
    "##### 4. If you were to recommend 3 beers to your friends based on this data which ones will you recommend?"
   ]
  },
  {
   "cell_type": "markdown",
   "metadata": {},
   "source": [
    "To recommend 3 beers to my friends as I do not have experience and preference, I would first find most popular beers from data and then find highest rated beers among them. \n",
    "\n",
    "This will increase chance that my recommendations will work for my friends. Also there is always a favour for famous things among public.\n",
    "\n",
    "Top 3 recommendations from my side will be (with average rating) -  \n",
    " - Founders KBS (Kentucky Breakfast Stout) (4.4)\n",
    " - Tröegs Nugget Nectar\t(4.39)\n",
    " - Founders Breakfast Stout (4.3)"
   ]
  },
  {
   "cell_type": "markdown",
   "metadata": {},
   "source": [
    "##### 5. Which Beer style seems to be the favorite based on reviews written by users? "
   ]
  },
  {
   "cell_type": "markdown",
   "metadata": {},
   "source": [
    "To find most favourite styles I collected all beer styles and maximum sentiment score from user rating and then selected beer styles with maximum sentiment score\n",
    "\n",
    "Most Favourite Beer Styles with positive review sentiment only - \n",
    " - Dubbel, \n",
    " - Irish Red Ale, \n",
    " - Belgian Strong Dark Ale, \n",
    " - American Double / Imperial Stout, \n",
    " - American Stout, Scotch Ale / Wee Heavy, \n",
    " - Belgian Strong Pale Ale, \n",
    " - Winter Warmer, \n",
    " - American Amber / Red Lager"
   ]
  },
  {
   "cell_type": "markdown",
   "metadata": {},
   "source": [
    "To find most favourite styles I collected all beer styles and maximum sentiment score from user rating and overall rating, then selected beer styles with maximum of both scores\n",
    "\n",
    "Most Favourite Beer Styles from positive sentiment and overall rating - \n",
    " - American Amber / Red Lager, \n",
    " - American Double / Imperial Stout, \n",
    " - American Stout, \n",
    " - Belgian Strong Dark Ale, \n",
    " - Belgian Strong Pale Ale, \n",
    " - Dubbel, \n",
    " - Irish Red Ale, \n",
    " - Scotch Ale / Wee Heavy, \n",
    " - Winter Warmer"
   ]
  },
  {
   "cell_type": "markdown",
   "metadata": {},
   "source": [
    "##### 6. How does written review compare to overall review score for the beer styles?"
   ]
  },
  {
   "cell_type": "markdown",
   "metadata": {},
   "source": [
    "From analysis of reviewa written we can say that Positive reviews tend to me lengthy, and negative reviews are shorter in number of sentences as well as words"
   ]
  },
  {
   "cell_type": "markdown",
   "metadata": {},
   "source": [
    "##### 7. How do find similar beer drinkers by using written reviews only?"
   ]
  },
  {
   "cell_type": "markdown",
   "metadata": {},
   "source": [
    "- To find similar beer drinkers by oonly their reviews we can use - \n",
    "  - Content based filtering \n",
    "  - Collaborative filtering\n",
    "\n",
    "- Content based filters are used to make recommendations based on similar products/services according to their attributes\n",
    "  \n",
    "- Collaborative filtering uses algorithms to filter data from user reviews to make personalized recommendations for users with similar preferences. With this we can find out similar beer drinkers.\n",
    "  \n",
    "- Three types of collaborative filtering commonly used in recommendation systems are \n",
    "  - neighbor-based\n",
    "  - item-to-item and \n",
    "  - classification- based.\n",
    "\n",
    " - In neighbor-based filtering, users are selected for their similarity to the active user. This similarity is determined by matching users who have posted similar reviews. Based on the previous similarity, it is presumed that future likes and dislikes will also be similar. From the average rating of the group, recommendations are made for the active user.\n",
    "\n",
    " - An item-to-item filtering process uses a matrix to determine the likeness of pairs of items. Item-to-item processes then compare the current user’s preference to the items in the matrix for similarities upon which to base recommendations.\n",
    "\n",
    " - A classification-based collaborative filtering system recommends things based on how similar users liked that classification or genre. It is assumed that users that enjoy or dislike similar experiences within a classification will also enjoy others within that classification."
   ]
  },
  {
   "cell_type": "markdown",
   "metadata": {},
   "source": [
    "- I tried out content based filtering on sample of data to find out if we can get similar users if given a user\n",
    "  - Steps involved are \n",
    "    - Find TFIDF vectors of review text\n",
    "    - then calculate cosine similarity between vectors\n",
    "    - from this try to find out similar beer drinkers from their reviews\n",
    " - The function take input as profile name and returns smilar users based on their cosine similarity"
   ]
  },
  {
   "cell_type": "markdown",
   "metadata": {},
   "source": [
    "- This may not be a perfect method to find ot similar users using text data. \n",
    "\n",
    " - We can try out Collaboratiove filtering for doing so as described in articles like this - \n",
    "https://medium.com/@medfordxie/what-to-drink-next-a-simple-beer-recommendation-system-using-collaborative-filtering-b65dd32b600d"
   ]
  }
 ],
 "metadata": {
  "kernelspec": {
   "display_name": "Python 3.10.6 ('venv': venv)",
   "language": "python",
   "name": "python3"
  },
  "language_info": {
   "codemirror_mode": {
    "name": "ipython",
    "version": 3
   },
   "file_extension": ".py",
   "mimetype": "text/x-python",
   "name": "python",
   "nbconvert_exporter": "python",
   "pygments_lexer": "ipython3",
   "version": "3.10.6"
  },
  "orig_nbformat": 4,
  "vscode": {
   "interpreter": {
    "hash": "cd7fbf7b7cd6c0a55c0246343e4d94ef8488c6aa681985364a37c3e8d9ee40fa"
   }
  }
 },
 "nbformat": 4,
 "nbformat_minor": 2
}
