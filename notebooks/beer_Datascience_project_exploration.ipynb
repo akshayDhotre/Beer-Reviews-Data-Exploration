{
 "cells": [
  {
   "cell_type": "markdown",
   "metadata": {},
   "source": [
    "### Beer Data Science Project"
   ]
  },
  {
   "cell_type": "markdown",
   "metadata": {},
   "source": [
    "#### Purpose of the project is to explore Beer reviews dataset and find answers to below questions - \n",
    "\n",
    "1.\tRank top 3 Breweries which produce the strongest beers?\n",
    "2.\tWhich year did beers enjoy the highest ratings? \n",
    "3.\tBased on the user’s ratings which factors are important among taste, aroma, appearance, and palette?\n",
    "4.\tIf you were to recommend 3 beers to your friends based on this data which ones will you recommend?\n",
    "\n",
    "5.\tWhich Beer style seems to be the favorite based on reviews written by users? \n",
    "6.\tHow does written review compare to overall review score for the beer styles?\n",
    "7.\tHow do find similar beer drinkers by using written reviews only?   "
   ]
  },
  {
   "cell_type": "markdown",
   "metadata": {},
   "source": [
    "#### Steps that we will follow are as below - \n",
    " - Data Ingestion\n",
    " - Data Exploration\n",
    " - Data Cleaning and Prepropcessing\n",
    " - Data Visualization\n",
    " - Finding Answers to Questions"
   ]
  },
  {
   "cell_type": "markdown",
   "metadata": {},
   "source": [
    "### Load essential libraries"
   ]
  },
  {
   "cell_type": "code",
   "execution_count": 22,
   "metadata": {},
   "outputs": [
    {
     "name": "stderr",
     "output_type": "stream",
     "text": [
      "[nltk_data] Downloading package punkt to\n",
      "[nltk_data]     C:\\Users\\Akshay\\AppData\\Roaming\\nltk_data...\n",
      "[nltk_data]   Package punkt is already up-to-date!\n",
      "[nltk_data] Downloading package stopwords to\n",
      "[nltk_data]     C:\\Users\\Akshay\\AppData\\Roaming\\nltk_data...\n",
      "[nltk_data]   Package stopwords is already up-to-date!\n",
      "[nltk_data] Downloading package averaged_perceptron_tagger to\n",
      "[nltk_data]     C:\\Users\\Akshay\\AppData\\Roaming\\nltk_data...\n",
      "[nltk_data]   Package averaged_perceptron_tagger is already up-to-\n",
      "[nltk_data]       date!\n"
     ]
    }
   ],
   "source": [
    "import pandas as pd\n",
    "import numpy as np\n",
    "\n",
    "import matplotlib.pyplot as plt\n",
    "import seaborn as sns\n",
    "\n",
    "from sklearn.linear_model import LinearRegression\n",
    "from sklearn.metrics import mean_squared_error\n",
    "from sklearn.pipeline import make_pipeline\n",
    "from sklearn.preprocessing import StandardScaler\n",
    "\n",
    "import re\n",
    "from textblob import TextBlob\n",
    "\n",
    "import nltk\n",
    "nltk.download('punkt')\n",
    "nltk.download('stopwords')\n",
    "nltk.download('averaged_perceptron_tagger')\n",
    "from nltk.corpus import stopwords\n",
    "\n",
    "from sklearn.metrics.pairwise import cosine_similarity\n",
    "from sklearn.feature_extraction.text import TfidfVectorizer\n",
    "\n",
    "# from tqdm.notebook import tqdm\n",
    "# tqdm.pandas()\n",
    "\n",
    "%matplotlib inline"
   ]
  },
  {
   "cell_type": "markdown",
   "metadata": {},
   "source": [
    "### Data Ingestion"
   ]
  },
  {
   "cell_type": "code",
   "execution_count": 45,
   "metadata": {},
   "outputs": [
    {
     "data": {
      "text/html": [
       "<div>\n",
       "<style scoped>\n",
       "    .dataframe tbody tr th:only-of-type {\n",
       "        vertical-align: middle;\n",
       "    }\n",
       "\n",
       "    .dataframe tbody tr th {\n",
       "        vertical-align: top;\n",
       "    }\n",
       "\n",
       "    .dataframe thead th {\n",
       "        text-align: right;\n",
       "    }\n",
       "</style>\n",
       "<table border=\"1\" class=\"dataframe\">\n",
       "  <thead>\n",
       "    <tr style=\"text-align: right;\">\n",
       "      <th></th>\n",
       "      <th>beer_ABV</th>\n",
       "      <th>beer_beerId</th>\n",
       "      <th>beer_brewerId</th>\n",
       "      <th>beer_name</th>\n",
       "      <th>beer_style</th>\n",
       "      <th>review_appearance</th>\n",
       "      <th>review_palette</th>\n",
       "      <th>review_overall</th>\n",
       "      <th>review_taste</th>\n",
       "      <th>review_profileName</th>\n",
       "      <th>review_aroma</th>\n",
       "      <th>review_text</th>\n",
       "      <th>review_time</th>\n",
       "    </tr>\n",
       "  </thead>\n",
       "  <tbody>\n",
       "    <tr>\n",
       "      <th>0</th>\n",
       "      <td>5.0</td>\n",
       "      <td>47986</td>\n",
       "      <td>10325</td>\n",
       "      <td>Sausa Weizen</td>\n",
       "      <td>Hefeweizen</td>\n",
       "      <td>2.5</td>\n",
       "      <td>2.0</td>\n",
       "      <td>1.5</td>\n",
       "      <td>1.5</td>\n",
       "      <td>stcules</td>\n",
       "      <td>1.5</td>\n",
       "      <td>A lot of foam. But a lot. In the smell some ba...</td>\n",
       "      <td>1234817823</td>\n",
       "    </tr>\n",
       "    <tr>\n",
       "      <th>1</th>\n",
       "      <td>6.2</td>\n",
       "      <td>48213</td>\n",
       "      <td>10325</td>\n",
       "      <td>Red Moon</td>\n",
       "      <td>English Strong Ale</td>\n",
       "      <td>3.0</td>\n",
       "      <td>2.5</td>\n",
       "      <td>3.0</td>\n",
       "      <td>3.0</td>\n",
       "      <td>stcules</td>\n",
       "      <td>3.0</td>\n",
       "      <td>Dark red color, light beige foam, average. In ...</td>\n",
       "      <td>1235915097</td>\n",
       "    </tr>\n",
       "    <tr>\n",
       "      <th>2</th>\n",
       "      <td>6.5</td>\n",
       "      <td>48215</td>\n",
       "      <td>10325</td>\n",
       "      <td>Black Horse Black Beer</td>\n",
       "      <td>Foreign / Export Stout</td>\n",
       "      <td>3.0</td>\n",
       "      <td>2.5</td>\n",
       "      <td>3.0</td>\n",
       "      <td>3.0</td>\n",
       "      <td>stcules</td>\n",
       "      <td>3.0</td>\n",
       "      <td>Almost totally black. Beige foam, quite compac...</td>\n",
       "      <td>1235916604</td>\n",
       "    </tr>\n",
       "    <tr>\n",
       "      <th>3</th>\n",
       "      <td>5.0</td>\n",
       "      <td>47969</td>\n",
       "      <td>10325</td>\n",
       "      <td>Sausa Pils</td>\n",
       "      <td>German Pilsener</td>\n",
       "      <td>3.5</td>\n",
       "      <td>3.0</td>\n",
       "      <td>3.0</td>\n",
       "      <td>2.5</td>\n",
       "      <td>stcules</td>\n",
       "      <td>3.0</td>\n",
       "      <td>Golden yellow color. White, compact foam, quit...</td>\n",
       "      <td>1234725145</td>\n",
       "    </tr>\n",
       "    <tr>\n",
       "      <th>4</th>\n",
       "      <td>7.7</td>\n",
       "      <td>64883</td>\n",
       "      <td>1075</td>\n",
       "      <td>Cauldron DIPA</td>\n",
       "      <td>American Double / Imperial IPA</td>\n",
       "      <td>4.0</td>\n",
       "      <td>4.5</td>\n",
       "      <td>4.0</td>\n",
       "      <td>4.0</td>\n",
       "      <td>johnmichaelsen</td>\n",
       "      <td>4.5</td>\n",
       "      <td>According to the website, the style for the Ca...</td>\n",
       "      <td>1293735206</td>\n",
       "    </tr>\n",
       "  </tbody>\n",
       "</table>\n",
       "</div>"
      ],
      "text/plain": [
       "   beer_ABV  beer_beerId  beer_brewerId               beer_name  \\\n",
       "0       5.0        47986          10325            Sausa Weizen   \n",
       "1       6.2        48213          10325                Red Moon   \n",
       "2       6.5        48215          10325  Black Horse Black Beer   \n",
       "3       5.0        47969          10325              Sausa Pils   \n",
       "4       7.7        64883           1075           Cauldron DIPA   \n",
       "\n",
       "                       beer_style  review_appearance  review_palette  \\\n",
       "0                      Hefeweizen                2.5             2.0   \n",
       "1              English Strong Ale                3.0             2.5   \n",
       "2          Foreign / Export Stout                3.0             2.5   \n",
       "3                 German Pilsener                3.5             3.0   \n",
       "4  American Double / Imperial IPA                4.0             4.5   \n",
       "\n",
       "   review_overall  review_taste review_profileName  review_aroma  \\\n",
       "0             1.5           1.5            stcules           1.5   \n",
       "1             3.0           3.0            stcules           3.0   \n",
       "2             3.0           3.0            stcules           3.0   \n",
       "3             3.0           2.5            stcules           3.0   \n",
       "4             4.0           4.0     johnmichaelsen           4.5   \n",
       "\n",
       "                                         review_text  review_time  \n",
       "0  A lot of foam. But a lot. In the smell some ba...   1234817823  \n",
       "1  Dark red color, light beige foam, average. In ...   1235915097  \n",
       "2  Almost totally black. Beige foam, quite compac...   1235916604  \n",
       "3  Golden yellow color. White, compact foam, quit...   1234725145  \n",
       "4  According to the website, the style for the Ca...   1293735206  "
      ]
     },
     "execution_count": 45,
     "metadata": {},
     "output_type": "execute_result"
    }
   ],
   "source": [
    "# Data was not able to load with 'utf-8' encoding, so used 'latin-1' encoding\n",
    "beer_data = pd.read_csv(r\"..\\data\\BeerDataScienceProject.csv\", encoding=\"latin-1\")\n",
    "\n",
    "# Created copy of data to work on\n",
    "beer_reviews = beer_data.copy()\n",
    "\n",
    "# Check Data\n",
    "beer_reviews.head()"
   ]
  },
  {
   "cell_type": "markdown",
   "metadata": {},
   "source": [
    "### Data Exploration"
   ]
  },
  {
   "cell_type": "code",
   "execution_count": 46,
   "metadata": {},
   "outputs": [
    {
     "name": "stdout",
     "output_type": "stream",
     "text": [
      "<class 'pandas.core.frame.DataFrame'>\n",
      "RangeIndex: 528870 entries, 0 to 528869\n",
      "Data columns (total 13 columns):\n",
      " #   Column              Non-Null Count   Dtype  \n",
      "---  ------              --------------   -----  \n",
      " 0   beer_ABV            508590 non-null  float64\n",
      " 1   beer_beerId         528870 non-null  int64  \n",
      " 2   beer_brewerId       528870 non-null  int64  \n",
      " 3   beer_name           528870 non-null  object \n",
      " 4   beer_style          528870 non-null  object \n",
      " 5   review_appearance   528870 non-null  float64\n",
      " 6   review_palette      528870 non-null  float64\n",
      " 7   review_overall      528870 non-null  float64\n",
      " 8   review_taste        528870 non-null  float64\n",
      " 9   review_profileName  528755 non-null  object \n",
      " 10  review_aroma        528870 non-null  float64\n",
      " 11  review_text         528751 non-null  object \n",
      " 12  review_time         528870 non-null  int64  \n",
      "dtypes: float64(6), int64(3), object(4)\n",
      "memory usage: 52.5+ MB\n"
     ]
    }
   ],
   "source": [
    "# Check structure of dataset\n",
    "beer_reviews.info()"
   ]
  },
  {
   "cell_type": "code",
   "execution_count": 47,
   "metadata": {},
   "outputs": [
    {
     "name": "stdout",
     "output_type": "stream",
     "text": [
      "Missing values in dataset: \n",
      " beer_ABV              3.83\n",
      "beer_beerId           0.00\n",
      "beer_brewerId         0.00\n",
      "beer_name             0.00\n",
      "beer_style            0.00\n",
      "review_appearance     0.00\n",
      "review_palette        0.00\n",
      "review_overall        0.00\n",
      "review_taste          0.00\n",
      "review_profileName    0.02\n",
      "review_aroma          0.00\n",
      "review_text           0.02\n",
      "review_time           0.00\n",
      "dtype: float64\n"
     ]
    }
   ],
   "source": [
    "# Check percentage of missing values \n",
    "print(f\"Missing values in dataset: \\n {round(beer_reviews.isnull().sum() * 100 / len(beer_reviews), 2)}\")"
   ]
  },
  {
   "cell_type": "markdown",
   "metadata": {},
   "source": [
    "> As Null values are ~4% for \"Beer ABV\", we can drop them"
   ]
  },
  {
   "cell_type": "code",
   "execution_count": 48,
   "metadata": {},
   "outputs": [
    {
     "name": "stdout",
     "output_type": "stream",
     "text": [
      "<class 'pandas.core.frame.DataFrame'>\n",
      "Int64Index: 508358 entries, 0 to 528796\n",
      "Data columns (total 13 columns):\n",
      " #   Column              Non-Null Count   Dtype  \n",
      "---  ------              --------------   -----  \n",
      " 0   beer_ABV            508358 non-null  float64\n",
      " 1   beer_beerId         508358 non-null  int64  \n",
      " 2   beer_brewerId       508358 non-null  int64  \n",
      " 3   beer_name           508358 non-null  object \n",
      " 4   beer_style          508358 non-null  object \n",
      " 5   review_appearance   508358 non-null  float64\n",
      " 6   review_palette      508358 non-null  float64\n",
      " 7   review_overall      508358 non-null  float64\n",
      " 8   review_taste        508358 non-null  float64\n",
      " 9   review_profileName  508358 non-null  object \n",
      " 10  review_aroma        508358 non-null  float64\n",
      " 11  review_text         508358 non-null  object \n",
      " 12  review_time         508358 non-null  int64  \n",
      "dtypes: float64(6), int64(3), object(4)\n",
      "memory usage: 54.3+ MB\n"
     ]
    }
   ],
   "source": [
    "# Drop Null values\n",
    "beer_reviews = beer_reviews.dropna()\n",
    "beer_reviews.info()"
   ]
  },
  {
   "cell_type": "code",
   "execution_count": 49,
   "metadata": {},
   "outputs": [
    {
     "name": "stdout",
     "output_type": "stream",
     "text": [
      "<class 'pandas.core.frame.DataFrame'>\n",
      "Int64Index: 502769 entries, 492945 to 39638\n",
      "Data columns (total 13 columns):\n",
      " #   Column              Non-Null Count   Dtype  \n",
      "---  ------              --------------   -----  \n",
      " 0   beer_ABV            502769 non-null  float64\n",
      " 1   beer_beerId         502769 non-null  int64  \n",
      " 2   beer_brewerId       502769 non-null  int64  \n",
      " 3   beer_name           502769 non-null  object \n",
      " 4   beer_style          502769 non-null  object \n",
      " 5   review_appearance   502769 non-null  float64\n",
      " 6   review_palette      502769 non-null  float64\n",
      " 7   review_overall      502769 non-null  float64\n",
      " 8   review_taste        502769 non-null  float64\n",
      " 9   review_profileName  502769 non-null  object \n",
      " 10  review_aroma        502769 non-null  float64\n",
      " 11  review_text         502769 non-null  object \n",
      " 12  review_time         502769 non-null  int64  \n",
      "dtypes: float64(6), int64(3), object(4)\n",
      "memory usage: 53.7+ MB\n"
     ]
    }
   ],
   "source": [
    "# Check Duplicate Data\n",
    "\n",
    "# Sort by overall rating \n",
    "beer_reviews = beer_reviews.sort_values('review_overall', ascending=False)\n",
    "\n",
    "# Keep only highest rating from each user\n",
    "beer_reviews = beer_reviews.drop_duplicates(subset=['review_profileName', 'beer_name'], keep='first')\n",
    "\n",
    "beer_reviews.info()"
   ]
  },
  {
   "cell_type": "code",
   "execution_count": 50,
   "metadata": {},
   "outputs": [
    {
     "name": "stdout",
     "output_type": "stream",
     "text": [
      "Percentage of duplicate values: 1.1%\n"
     ]
    }
   ],
   "source": [
    "print(f\"Percentage of duplicate values: {round((508358 - 502769) / 508358  * 100, 2)}%\")"
   ]
  },
  {
   "cell_type": "markdown",
   "metadata": {},
   "source": [
    "> The duplicate values are only ~1% so we are dropping them"
   ]
  },
  {
   "cell_type": "code",
   "execution_count": 51,
   "metadata": {},
   "outputs": [
    {
     "name": "stdout",
     "output_type": "stream",
     "text": [
      "No of unique beer by name: 14028\n",
      "No of unique beer by ids: 14950\n"
     ]
    }
   ],
   "source": [
    "## Counting uniqueness by Beer\n",
    "print('No of unique beer by name:', beer_reviews.beer_name.nunique())\n",
    "print('No of unique beer by ids:',beer_reviews.beer_beerId.nunique())"
   ]
  },
  {
   "cell_type": "code",
   "execution_count": 52,
   "metadata": {},
   "outputs": [
    {
     "name": "stdout",
     "output_type": "stream",
     "text": [
      "No of unique brewery by ids: 1605\n"
     ]
    }
   ],
   "source": [
    "## Counting unqiueness by Brewery/Company\n",
    "print('No of unique brewery by ids:',beer_reviews.beer_brewerId.nunique())"
   ]
  },
  {
   "cell_type": "code",
   "execution_count": 53,
   "metadata": {},
   "outputs": [
    {
     "name": "stdout",
     "output_type": "stream",
     "text": [
      "No of unique users, reviewing the given beers:  22563\n"
     ]
    }
   ],
   "source": [
    "## Counting number of users,reviewed the beer\n",
    "print('No of unique users, reviewing the given beers: ',beer_reviews.review_profileName.nunique())"
   ]
  },
  {
   "cell_type": "markdown",
   "metadata": {},
   "source": [
    "### Data Cleaning and Prepropcessing"
   ]
  },
  {
   "cell_type": "markdown",
   "metadata": {},
   "source": [
    "> Some columns have data type as object, changing them to appropriate data type based on values"
   ]
  },
  {
   "cell_type": "code",
   "execution_count": 54,
   "metadata": {},
   "outputs": [],
   "source": [
    "# Convert 'object' data type or review_text to 'string'\n",
    "beer_reviews['review_text'] = beer_reviews['review_text'].astype('string')"
   ]
  },
  {
   "cell_type": "code",
   "execution_count": 55,
   "metadata": {},
   "outputs": [],
   "source": [
    "# Convert 'object' data type to 'category'\n",
    "beer_reviews[beer_reviews.select_dtypes(['object']).columns] =\\\n",
    "beer_reviews.select_dtypes(['object']).apply(lambda x: x.astype('category'))"
   ]
  },
  {
   "cell_type": "code",
   "execution_count": 56,
   "metadata": {},
   "outputs": [
    {
     "name": "stdout",
     "output_type": "stream",
     "text": [
      "<class 'pandas.core.frame.DataFrame'>\n",
      "Int64Index: 502769 entries, 492945 to 39638\n",
      "Data columns (total 13 columns):\n",
      " #   Column              Non-Null Count   Dtype         \n",
      "---  ------              --------------   -----         \n",
      " 0   beer_ABV            502769 non-null  float64       \n",
      " 1   beer_beerId         502769 non-null  int64         \n",
      " 2   beer_brewerId       502769 non-null  int64         \n",
      " 3   beer_name           502769 non-null  category      \n",
      " 4   beer_style          502769 non-null  category      \n",
      " 5   review_appearance   502769 non-null  float64       \n",
      " 6   review_palette      502769 non-null  float64       \n",
      " 7   review_overall      502769 non-null  float64       \n",
      " 8   review_taste        502769 non-null  float64       \n",
      " 9   review_profileName  502769 non-null  category      \n",
      " 10  review_aroma        502769 non-null  float64       \n",
      " 11  review_text         502769 non-null  string        \n",
      " 12  review_time         502769 non-null  datetime64[ns]\n",
      "dtypes: category(3), datetime64[ns](1), float64(6), int64(2), string(1)\n",
      "memory usage: 45.9 MB\n"
     ]
    }
   ],
   "source": [
    "# Convert 'review_time' data type from int64 to datetime for better interpretation\n",
    "beer_reviews['review_time'] = pd.to_datetime(beer_reviews['review_time'], unit = 's')\n",
    "beer_reviews.info()"
   ]
  },
  {
   "cell_type": "markdown",
   "metadata": {},
   "source": [
    "> Creating separate copy of data for review text related analysis"
   ]
  },
  {
   "cell_type": "code",
   "execution_count": 23,
   "metadata": {},
   "outputs": [
    {
     "name": "stdout",
     "output_type": "stream",
     "text": [
      "<class 'pandas.core.frame.DataFrame'>\n",
      "Int64Index: 502769 entries, 492945 to 39638\n",
      "Data columns (total 7 columns):\n",
      " #   Column              Non-Null Count   Dtype   \n",
      "---  ------              --------------   -----   \n",
      " 0   beer_beerId         502769 non-null  int64   \n",
      " 1   beer_brewerId       502769 non-null  int64   \n",
      " 2   beer_name           502769 non-null  category\n",
      " 3   review_profileName  502769 non-null  category\n",
      " 4   review_overall      502769 non-null  float64 \n",
      " 5   beer_style          502769 non-null  category\n",
      " 6   review_text         502769 non-null  string  \n",
      "dtypes: category(3), float64(1), int64(2), string(1)\n",
      "memory usage: 22.9 MB\n"
     ]
    }
   ],
   "source": [
    "# Separatig the text based review from other columns to treat it differently\n",
    "beer_text_reviews = beer_reviews[['beer_beerId', 'beer_brewerId', 'beer_name', 'review_profileName', 'review_overall', 'beer_style','review_text']].copy()\n",
    "beer_text_reviews.info()"
   ]
  },
  {
   "cell_type": "markdown",
   "metadata": {},
   "source": [
    "> Using TextBlob Library for text processing  as it is based on NLTK and has facility to give sentiment score which is inoportant to understand reviewers sentiment"
   ]
  },
  {
   "cell_type": "code",
   "execution_count": 24,
   "metadata": {},
   "outputs": [],
   "source": [
    "# Count the words in review\n",
    "beer_text_reviews['tokens_count'] = beer_text_reviews['review_text'].apply(lambda x: len(TextBlob(x).words))"
   ]
  },
  {
   "cell_type": "code",
   "execution_count": 25,
   "metadata": {},
   "outputs": [],
   "source": [
    "# Count the sentences in review\n",
    "beer_text_reviews['sents'] = beer_text_reviews['review_text'].apply(lambda x: len(TextBlob(x).sentences))"
   ]
  },
  {
   "cell_type": "markdown",
   "metadata": {},
   "source": [
    "> Word tag information can be used to find relation ships beween user rating and review text\n",
    "\n",
    "> But this is time consuming, so currently not using\n"
   ]
  },
  {
   "cell_type": "code",
   "execution_count": 29,
   "metadata": {},
   "outputs": [],
   "source": [
    "# beer_text_reviews['tags'] = beer_text_reviews['review_text'].apply(lambda x: TextBlob(x).tags)"
   ]
  },
  {
   "cell_type": "markdown",
   "metadata": {},
   "source": [
    "> Sentiment  information form text blob returns two properties - polarity, and subjectivity\n",
    "\n",
    "> Polarity is float which lies in the range of [-1,1] where 1 means positive statement and -1 means a negative statement. \n",
    "\n",
    "> Subjective sentences generally refer to personal opinion, emotion or judgment whereas objective refers to factual information. Subjectivity is also a float which lies in the range of [0,1]."
   ]
  },
  {
   "cell_type": "code",
   "execution_count": 30,
   "metadata": {},
   "outputs": [],
   "source": [
    "# Sentiment analysis with polarity score to identify if sentiment is positive or not regarding Beer\n",
    "beer_text_reviews['sentiment_pol'] = beer_text_reviews['review_text'].apply(lambda x: TextBlob(x).sentiment.polarity)"
   ]
  },
  {
   "cell_type": "code",
   "execution_count": 31,
   "metadata": {},
   "outputs": [],
   "source": [
    "# Save Processed file for further Use\n",
    "beer_text_reviews.to_csv('../data/BeerDataScienceProject_processed_text.csv', encoding='utf-8', index=False)"
   ]
  },
  {
   "cell_type": "code",
   "execution_count": 57,
   "metadata": {},
   "outputs": [],
   "source": [
    "# Dropping column 'review text' from main dataframe as we have saved text related analysis\n",
    "beer_reviews.drop(['review_text'], axis=1, inplace=True)"
   ]
  },
  {
   "cell_type": "markdown",
   "metadata": {},
   "source": [
    "### Data Visualization"
   ]
  },
  {
   "cell_type": "code",
   "execution_count": 58,
   "metadata": {},
   "outputs": [
    {
     "data": {
      "image/png": "[encoded data removed]",
      "text/plain": [
       "<Figure size 1200x800 with 9 Axes>"
      ]
     },
     "metadata": {},
     "output_type": "display_data"
    }
   ],
   "source": [
    "# Histogram of all numeric features\n",
    "beer_reviews.hist( bins=25, grid=False, figsize=(12,8), color='#3399ff', rwidth=0.8)\n",
    "plt.savefig('../reports/figures/histogram_of_features.png', bbox_inches='tight')\n",
    "plt.show()"
   ]
  },
  {
   "cell_type": "markdown",
   "metadata": {},
   "source": [
    "Histogram analysis -\n",
    "- beer_ABV - Skewed right - ABV value is less than 20% for most beers           \n",
    "- review_appearance - Skewed Left - Most beers have rating grater than 3.5 \n",
    "- review_palette - Normal - Most beers are rated between 3 to 4.5\n",
    "- review_overall - Skewed left - Mosrt beers have ratig grater than 3    \n",
    "- review_taste  - Normal - Most beers are rated between 3 to 4.5\n",
    "- review_aroma - Normal - Most beers are rated between 3 to 4.5\n",
    "- review_time  - Skewed left - time and  number of beer rated have linear relationship\n",
    "> There are some reviews with value 0 in review_appearance and review_overall columns"
   ]
  },
  {
   "cell_type": "code",
   "execution_count": 59,
   "metadata": {},
   "outputs": [
    {
     "name": "stdout",
     "output_type": "stream",
     "text": [
      "<class 'pandas.core.frame.DataFrame'>\n",
      "Int64Index: 502766 entries, 492945 to 188052\n",
      "Data columns (total 12 columns):\n",
      " #   Column              Non-Null Count   Dtype         \n",
      "---  ------              --------------   -----         \n",
      " 0   beer_ABV            502766 non-null  float64       \n",
      " 1   beer_beerId         502766 non-null  int64         \n",
      " 2   beer_brewerId       502766 non-null  int64         \n",
      " 3   beer_name           502766 non-null  category      \n",
      " 4   beer_style          502766 non-null  category      \n",
      " 5   review_appearance   502766 non-null  float64       \n",
      " 6   review_palette      502766 non-null  float64       \n",
      " 7   review_overall      502766 non-null  float64       \n",
      " 8   review_taste        502766 non-null  float64       \n",
      " 9   review_profileName  502766 non-null  category      \n",
      " 10  review_aroma        502766 non-null  float64       \n",
      " 11  review_time         502766 non-null  datetime64[ns]\n",
      "dtypes: category(3), datetime64[ns](1), float64(6), int64(2)\n",
      "memory usage: 42.0 MB\n"
     ]
    }
   ],
   "source": [
    "# Ratings with 0 value \n",
    "beer_reviews = beer_reviews[(beer_reviews['review_appearance'] >= 1)|(beer_reviews['review_overall'] >= 1)]\n",
    "beer_reviews.info()"
   ]
  },
  {
   "cell_type": "markdown",
   "metadata": {},
   "source": [
    "> There were only (502769 - 502766) = 3 reviews with value less than 1, which is negligible. But including data that might not be useful should be checked. "
   ]
  },
  {
   "cell_type": "code",
   "execution_count": 60,
   "metadata": {},
   "outputs": [],
   "source": [
    "# Save dataset at this stage for further use\n",
    "beer_reviews.to_csv('../data/BeerDataScienceProject_processed_num_categorical.csv', encoding='utf-8', index=False)"
   ]
  },
  {
   "cell_type": "markdown",
   "metadata": {},
   "source": [
    "### Finding Answers to Questions"
   ]
  },
  {
   "cell_type": "markdown",
   "metadata": {},
   "source": [
    "#### For below part we need processed data for numerical and categorical features"
   ]
  },
  {
   "cell_type": "code",
   "execution_count": 61,
   "metadata": {},
   "outputs": [],
   "source": [
    "# Load the preprocessed data\n",
    "beer_reviews_processed = pd.read_csv('../data/BeerDataScienceProject_processed_num_categorical.csv', encoding='utf-8')"
   ]
  },
  {
   "cell_type": "markdown",
   "metadata": {},
   "source": [
    "##### Rank top 3 Breweries which produce the strongest beers?\n",
    "\n"
   ]
  },
  {
   "cell_type": "markdown",
   "metadata": {},
   "source": [
    "> According to Wikipedia - The strength of beer is measured by its alcohol content by volume expressed as a percentage, that is to say, the number of millilitres of absolute alcohol (ethanol) in 100 mL of beer. \n",
    "\n",
    "> This parameter is called 'Alcohol by Volume' (ABV)"
   ]
  },
  {
   "cell_type": "code",
   "execution_count": 62,
   "metadata": {},
   "outputs": [],
   "source": [
    "top_strongest_beers = beer_reviews[['beer_name', 'beer_ABV']].sort_values('beer_ABV', ascending=False)"
   ]
  },
  {
   "cell_type": "code",
   "execution_count": 63,
   "metadata": {},
   "outputs": [],
   "source": [
    "top_strongest_beers = top_strongest_beers.drop_duplicates('beer_name').head(3).sort_values('beer_ABV', ascending=False)"
   ]
  },
  {
   "cell_type": "code",
   "execution_count": 64,
   "metadata": {},
   "outputs": [
    {
     "data": {
      "text/html": [
       "<div>\n",
       "<style scoped>\n",
       "    .dataframe tbody tr th:only-of-type {\n",
       "        vertical-align: middle;\n",
       "    }\n",
       "\n",
       "    .dataframe tbody tr th {\n",
       "        vertical-align: top;\n",
       "    }\n",
       "\n",
       "    .dataframe thead th {\n",
       "        text-align: right;\n",
       "    }\n",
       "</style>\n",
       "<table border=\"1\" class=\"dataframe\">\n",
       "  <thead>\n",
       "    <tr style=\"text-align: right;\">\n",
       "      <th></th>\n",
       "      <th>beer_name</th>\n",
       "      <th>beer_ABV</th>\n",
       "    </tr>\n",
       "  </thead>\n",
       "  <tbody>\n",
       "    <tr>\n",
       "      <th>12889</th>\n",
       "      <td>Schorschbräu Schorschbock 57%</td>\n",
       "      <td>57.70</td>\n",
       "    </tr>\n",
       "    <tr>\n",
       "      <th>12909</th>\n",
       "      <td>Schorschbräu Schorschbock 43%</td>\n",
       "      <td>43.00</td>\n",
       "    </tr>\n",
       "    <tr>\n",
       "      <th>12913</th>\n",
       "      <td>Schorschbräu Schorschbock 40%</td>\n",
       "      <td>39.44</td>\n",
       "    </tr>\n",
       "  </tbody>\n",
       "</table>\n",
       "</div>"
      ],
      "text/plain": [
       "                           beer_name  beer_ABV\n",
       "12889  Schorschbräu Schorschbock 57%     57.70\n",
       "12909  Schorschbräu Schorschbock 43%     43.00\n",
       "12913  Schorschbräu Schorschbock 40%     39.44"
      ]
     },
     "execution_count": 64,
     "metadata": {},
     "output_type": "execute_result"
    }
   ],
   "source": [
    "top_strongest_beers"
   ]
  },
  {
   "cell_type": "markdown",
   "metadata": {},
   "source": [
    "> Strongest Beers by ABV are - \n",
    " - Schorschbräu Schorschbock 57% (with ABV 57.70)\n",
    " - Schorschbräu Schorschbock 43% (with ABV 43.00)\n",
    " - Schorschbräu Schorschbock 40% (with ABV 39.44)\n"
   ]
  },
  {
   "cell_type": "code",
   "execution_count": 65,
   "metadata": {},
   "outputs": [
    {
     "data": {
      "image/png": "[encoded data removed]",
      "text/plain": [
       "<Figure size 640x480 with 1 Axes>"
      ]
     },
     "metadata": {},
     "output_type": "display_data"
    }
   ],
   "source": [
    "top_strongest_beers.plot.barh(x='beer_name', y='beer_ABV', title='Top 3 Beers by ABV')\n",
    "plt.savefig('../reports/figures/strongest_beers_by_ABV.png', bbox_inches='tight')\n",
    "plt.title('Top 3 Strongest Beers as per ABV')\n",
    "plt.show()"
   ]
  },
  {
   "cell_type": "markdown",
   "metadata": {},
   "source": [
    "##### Which year did beers enjoy the highest ratings?"
   ]
  },
  {
   "cell_type": "markdown",
   "metadata": {},
   "source": [
    "> For this we need to extract 'year' information from 'review time' column. \n",
    "\n",
    "> After that we can group on 'beer name' and 'review year', then aggregate them on 'overall rating' with maximum rating"
   ]
  },
  {
   "cell_type": "code",
   "execution_count": 66,
   "metadata": {},
   "outputs": [],
   "source": [
    "beer_reviews['review_year'] = pd.DatetimeIndex(beer_reviews['review_time']).year"
   ]
  },
  {
   "cell_type": "code",
   "execution_count": 68,
   "metadata": {},
   "outputs": [],
   "source": [
    "beer_peak_rating = beer_reviews[['beer_name', 'review_year', 'review_overall']].groupby(['beer_name', 'review_year'])"
   ]
  },
  {
   "cell_type": "code",
   "execution_count": 69,
   "metadata": {},
   "outputs": [],
   "source": [
    "beer_peak_rating = beer_peak_rating.agg(max_review_overall=('review_overall', max)).sort_values(by='max_review_overall',ascending=False).reset_index()"
   ]
  },
  {
   "cell_type": "code",
   "execution_count": 70,
   "metadata": {},
   "outputs": [
    {
     "data": {
      "text/html": [
       "<div>\n",
       "<style scoped>\n",
       "    .dataframe tbody tr th:only-of-type {\n",
       "        vertical-align: middle;\n",
       "    }\n",
       "\n",
       "    .dataframe tbody tr th {\n",
       "        vertical-align: top;\n",
       "    }\n",
       "\n",
       "    .dataframe thead th {\n",
       "        text-align: right;\n",
       "    }\n",
       "</style>\n",
       "<table border=\"1\" class=\"dataframe\">\n",
       "  <thead>\n",
       "    <tr style=\"text-align: right;\">\n",
       "      <th></th>\n",
       "      <th>beer_name</th>\n",
       "      <th>review_year</th>\n",
       "      <th>max_review_overall</th>\n",
       "    </tr>\n",
       "  </thead>\n",
       "  <tbody>\n",
       "    <tr>\n",
       "      <th>0</th>\n",
       "      <td>Hop, Drop n Roll</td>\n",
       "      <td>2011</td>\n",
       "      <td>5.0</td>\n",
       "    </tr>\n",
       "    <tr>\n",
       "      <th>1</th>\n",
       "      <td>Cantillon Kriek 100% Lambic</td>\n",
       "      <td>2008</td>\n",
       "      <td>5.0</td>\n",
       "    </tr>\n",
       "    <tr>\n",
       "      <th>5</th>\n",
       "      <td>Slap &amp; Tickle</td>\n",
       "      <td>2010</td>\n",
       "      <td>5.0</td>\n",
       "    </tr>\n",
       "    <tr>\n",
       "      <th>6</th>\n",
       "      <td>Hell For Certain</td>\n",
       "      <td>2004</td>\n",
       "      <td>5.0</td>\n",
       "    </tr>\n",
       "    <tr>\n",
       "      <th>7</th>\n",
       "      <td>Cantillon La Dernière Cuvée Du 89</td>\n",
       "      <td>2008</td>\n",
       "      <td>5.0</td>\n",
       "    </tr>\n",
       "    <tr>\n",
       "      <th>...</th>\n",
       "      <td>...</td>\n",
       "      <td>...</td>\n",
       "      <td>...</td>\n",
       "    </tr>\n",
       "    <tr>\n",
       "      <th>39152</th>\n",
       "      <td>Zhigulevskoye Lubitelskoye</td>\n",
       "      <td>2002</td>\n",
       "      <td>1.0</td>\n",
       "    </tr>\n",
       "    <tr>\n",
       "      <th>39154</th>\n",
       "      <td>Camino Real Common</td>\n",
       "      <td>2011</td>\n",
       "      <td>1.0</td>\n",
       "    </tr>\n",
       "    <tr>\n",
       "      <th>39159</th>\n",
       "      <td>Kopparbergs Special Brew X-Strong 7.5%</td>\n",
       "      <td>2003</td>\n",
       "      <td>1.0</td>\n",
       "    </tr>\n",
       "    <tr>\n",
       "      <th>39161</th>\n",
       "      <td>NuBru Blend</td>\n",
       "      <td>2007</td>\n",
       "      <td>1.0</td>\n",
       "    </tr>\n",
       "    <tr>\n",
       "      <th>39164</th>\n",
       "      <td>Northwest Wheat</td>\n",
       "      <td>2010</td>\n",
       "      <td>1.0</td>\n",
       "    </tr>\n",
       "  </tbody>\n",
       "</table>\n",
       "<p>14028 rows × 3 columns</p>\n",
       "</div>"
      ],
      "text/plain": [
       "                                    beer_name  review_year  max_review_overall\n",
       "0                           Hop, Drop n Roll         2011                 5.0\n",
       "1                 Cantillon Kriek 100% Lambic         2008                 5.0\n",
       "5                               Slap & Tickle         2010                 5.0\n",
       "6                            Hell For Certain         2004                 5.0\n",
       "7           Cantillon La Dernière Cuvée Du 89         2008                 5.0\n",
       "...                                       ...          ...                 ...\n",
       "39152              Zhigulevskoye Lubitelskoye         2002                 1.0\n",
       "39154                      Camino Real Common         2011                 1.0\n",
       "39159  Kopparbergs Special Brew X-Strong 7.5%         2003                 1.0\n",
       "39161                             NuBru Blend         2007                 1.0\n",
       "39164                         Northwest Wheat         2010                 1.0\n",
       "\n",
       "[14028 rows x 3 columns]"
      ]
     },
     "execution_count": 70,
     "metadata": {},
     "output_type": "execute_result"
    }
   ],
   "source": [
    "beer_peak_rating.drop_duplicates(subset='beer_name', keep='first')"
   ]
  },
  {
   "cell_type": "code",
   "execution_count": 71,
   "metadata": {},
   "outputs": [
    {
     "data": {
      "image/png": "[encoded data removed]",
      "text/plain": [
       "<Figure size 640x480 with 1 Axes>"
      ]
     },
     "metadata": {},
     "output_type": "display_data"
    }
   ],
   "source": [
    "sns.set_style(\"darkgrid\", {\"axes.facecolor\": \".925\"})\n",
    "sns.scatterplot(data=beer_peak_rating, x='review_year', y='max_review_overall', color=\"tab:blue\")\n",
    "plt.xlabel('Review Year')\n",
    "plt.ylabel('Maximum Review Overall')\n",
    "plt.title('Maximum Reviews over Time')\n",
    "plt.savefig('../reports/figures/years_with_highest_ratings.png', bbox_inches='tight')\n",
    "plt.show()"
   ]
  },
  {
   "cell_type": "markdown",
   "metadata": {},
   "source": [
    "##### Based on the user’s ratings which factors are important among taste, aroma, appearance, and palette?"
   ]
  },
  {
   "cell_type": "markdown",
   "metadata": {},
   "source": [
    "> Here we need to calculate correlation of 'review_aroma', 'review_appearance', 'review_palette' and 'review_taste' with 'review_overall'"
   ]
  },
  {
   "cell_type": "code",
   "execution_count": 48,
   "metadata": {},
   "outputs": [
    {
     "data": {
      "text/html": [
       "<style type=\"text/css\">\n",
       "#T_557d8_row0_col0, #T_557d8_row1_col1, #T_557d8_row2_col2, #T_557d8_row3_col3, #T_557d8_row4_col4 {\n",
       "  background-color: #08306b;\n",
       "  color: #f1f1f1;\n",
       "}\n",
       "#T_557d8_row0_col1 {\n",
       "  background-color: #e5eff9;\n",
       "  color: #000000;\n",
       "}\n",
       "#T_557d8_row0_col2 {\n",
       "  background-color: #a6cee4;\n",
       "  color: #000000;\n",
       "}\n",
       "#T_557d8_row0_col3 {\n",
       "  background-color: #9cc9e1;\n",
       "  color: #000000;\n",
       "}\n",
       "#T_557d8_row0_col4 {\n",
       "  background-color: #529dcc;\n",
       "  color: #f1f1f1;\n",
       "}\n",
       "#T_557d8_row1_col0, #T_557d8_row1_col2, #T_557d8_row1_col3, #T_557d8_row1_col4, #T_557d8_row4_col1 {\n",
       "  background-color: #f7fbff;\n",
       "  color: #000000;\n",
       "}\n",
       "#T_557d8_row2_col0 {\n",
       "  background-color: #a1cbe2;\n",
       "  color: #000000;\n",
       "}\n",
       "#T_557d8_row2_col1, #T_557d8_row4_col2 {\n",
       "  background-color: #dfecf7;\n",
       "  color: #000000;\n",
       "}\n",
       "#T_557d8_row2_col3 {\n",
       "  background-color: #e2edf8;\n",
       "  color: #000000;\n",
       "}\n",
       "#T_557d8_row2_col4 {\n",
       "  background-color: #ccdff1;\n",
       "  color: #000000;\n",
       "}\n",
       "#T_557d8_row3_col0 {\n",
       "  background-color: #91c3de;\n",
       "  color: #000000;\n",
       "}\n",
       "#T_557d8_row3_col1 {\n",
       "  background-color: #dceaf6;\n",
       "  color: #000000;\n",
       "}\n",
       "#T_557d8_row3_col2 {\n",
       "  background-color: #dfebf7;\n",
       "  color: #000000;\n",
       "}\n",
       "#T_557d8_row3_col4 {\n",
       "  background-color: #94c4df;\n",
       "  color: #000000;\n",
       "}\n",
       "#T_557d8_row4_col0 {\n",
       "  background-color: #60a7d2;\n",
       "  color: #f1f1f1;\n",
       "}\n",
       "#T_557d8_row4_col3 {\n",
       "  background-color: #b4d3e9;\n",
       "  color: #000000;\n",
       "}\n",
       "</style>\n",
       "<table id=\"T_557d8\">\n",
       "  <thead>\n",
       "    <tr>\n",
       "      <th class=\"blank level0\" >&nbsp;</th>\n",
       "      <th id=\"T_557d8_level0_col0\" class=\"col_heading level0 col0\" >review_aroma</th>\n",
       "      <th id=\"T_557d8_level0_col1\" class=\"col_heading level0 col1\" >review_appearance</th>\n",
       "      <th id=\"T_557d8_level0_col2\" class=\"col_heading level0 col2\" >review_palette</th>\n",
       "      <th id=\"T_557d8_level0_col3\" class=\"col_heading level0 col3\" >review_taste</th>\n",
       "      <th id=\"T_557d8_level0_col4\" class=\"col_heading level0 col4\" >review_overall</th>\n",
       "    </tr>\n",
       "  </thead>\n",
       "  <tbody>\n",
       "    <tr>\n",
       "      <th id=\"T_557d8_level0_row0\" class=\"row_heading level0 row0\" >review_aroma</th>\n",
       "      <td id=\"T_557d8_row0_col0\" class=\"data row0 col0\" >1.000000</td>\n",
       "      <td id=\"T_557d8_row0_col1\" class=\"data row0 col1\" >0.530761</td>\n",
       "      <td id=\"T_557d8_row0_col2\" class=\"data row0 col2\" >0.702969</td>\n",
       "      <td id=\"T_557d8_row0_col3\" class=\"data row0 col3\" >0.722349</td>\n",
       "      <td id=\"T_557d8_row0_col4\" class=\"data row0 col4\" >0.780248</td>\n",
       "    </tr>\n",
       "    <tr>\n",
       "      <th id=\"T_557d8_level0_row1\" class=\"row_heading level0 row1\" >review_appearance</th>\n",
       "      <td id=\"T_557d8_row1_col0\" class=\"data row1 col0\" >0.530761</td>\n",
       "      <td id=\"T_557d8_row1_col1\" class=\"data row1 col1\" >1.000000</td>\n",
       "      <td id=\"T_557d8_row1_col2\" class=\"data row1 col2\" >0.544353</td>\n",
       "      <td id=\"T_557d8_row1_col3\" class=\"data row1 col3\" >0.551510</td>\n",
       "      <td id=\"T_557d8_row1_col4\" class=\"data row1 col4\" >0.482716</td>\n",
       "    </tr>\n",
       "    <tr>\n",
       "      <th id=\"T_557d8_level0_row2\" class=\"row_heading level0 row2\" >review_palette</th>\n",
       "      <td id=\"T_557d8_row2_col0\" class=\"data row2 col0\" >0.702969</td>\n",
       "      <td id=\"T_557d8_row2_col1\" class=\"data row2 col1\" >0.544353</td>\n",
       "      <td id=\"T_557d8_row2_col2\" class=\"data row2 col2\" >1.000000</td>\n",
       "      <td id=\"T_557d8_row2_col3\" class=\"data row2 col3\" >0.600340</td>\n",
       "      <td id=\"T_557d8_row2_col4\" class=\"data row2 col4\" >0.597762</td>\n",
       "    </tr>\n",
       "    <tr>\n",
       "      <th id=\"T_557d8_level0_row3\" class=\"row_heading level0 row3\" >review_taste</th>\n",
       "      <td id=\"T_557d8_row3_col0\" class=\"data row3 col0\" >0.722349</td>\n",
       "      <td id=\"T_557d8_row3_col1\" class=\"data row3 col1\" >0.551510</td>\n",
       "      <td id=\"T_557d8_row3_col2\" class=\"data row3 col2\" >0.600340</td>\n",
       "      <td id=\"T_557d8_row3_col3\" class=\"data row3 col3\" >1.000000</td>\n",
       "      <td id=\"T_557d8_row3_col4\" class=\"data row3 col4\" >0.688937</td>\n",
       "    </tr>\n",
       "    <tr>\n",
       "      <th id=\"T_557d8_level0_row4\" class=\"row_heading level0 row4\" >review_overall</th>\n",
       "      <td id=\"T_557d8_row4_col0\" class=\"data row4 col0\" >0.780248</td>\n",
       "      <td id=\"T_557d8_row4_col1\" class=\"data row4 col1\" >0.482716</td>\n",
       "      <td id=\"T_557d8_row4_col2\" class=\"data row4 col2\" >0.597762</td>\n",
       "      <td id=\"T_557d8_row4_col3\" class=\"data row4 col3\" >0.688937</td>\n",
       "      <td id=\"T_557d8_row4_col4\" class=\"data row4 col4\" >1.000000</td>\n",
       "    </tr>\n",
       "  </tbody>\n",
       "</table>\n"
      ],
      "text/plain": [
       "<pandas.io.formats.style.Styler at 0x1731271ba60>"
      ]
     },
     "execution_count": 48,
     "metadata": {},
     "output_type": "execute_result"
    }
   ],
   "source": [
    "columns = ['review_aroma', 'review_appearance', 'review_palette', 'review_taste', 'review_overall']\n",
    "\n",
    "correlation_data = beer_reviews_processed[columns].corr()\n",
    "correlation_data.style.background_gradient(cmap='Blues')"
   ]
  },
  {
   "cell_type": "markdown",
   "metadata": {},
   "source": [
    "> There is high correlation betwwen Aroma and Overall review, after that Taste has high corrlation."
   ]
  },
  {
   "cell_type": "markdown",
   "metadata": {},
   "source": [
    "##### If you were to recommend 3 beers to your friends based on this data which ones will you recommend?"
   ]
  },
  {
   "cell_type": "markdown",
   "metadata": {},
   "source": [
    "> To recommend 3 beers to my friends as I do not have experience and preference, I would first find most popular beers from data and then find highest rated beers among them. \n",
    "This will increase chance that my recommendations will work for my friends. Also there is always a favour for famous things among public."
   ]
  },
  {
   "cell_type": "code",
   "execution_count": 49,
   "metadata": {},
   "outputs": [],
   "source": [
    "top_3_rec = beer_reviews[['beer_name', 'review_overall']]\\\n",
    "  .pivot_table(index='beer_name', aggfunc=('count', 'mean', 'median')).dropna()\n",
    "\n",
    "# Rename columns and flatten pivot table\n",
    "top_3_rec.columns = top_3_rec.columns.to_series().str.join('_')\n",
    "top_3_rec.reset_index(inplace=True)\n",
    "\n",
    "# Filter for highest rated beers\n",
    "top_3_rec = top_3_rec.query('review_overall_count >= 1000')\\\n",
    "  .sort_values('review_overall_mean', ascending=False)\\\n",
    "  .head(3)"
   ]
  },
  {
   "cell_type": "code",
   "execution_count": 50,
   "metadata": {},
   "outputs": [
    {
     "data": {
      "text/html": [
       "<div>\n",
       "<style scoped>\n",
       "    .dataframe tbody tr th:only-of-type {\n",
       "        vertical-align: middle;\n",
       "    }\n",
       "\n",
       "    .dataframe tbody tr th {\n",
       "        vertical-align: top;\n",
       "    }\n",
       "\n",
       "    .dataframe thead th {\n",
       "        text-align: right;\n",
       "    }\n",
       "</style>\n",
       "<table border=\"1\" class=\"dataframe\">\n",
       "  <thead>\n",
       "    <tr style=\"text-align: right;\">\n",
       "      <th></th>\n",
       "      <th>beer_name</th>\n",
       "      <th>review_overall_count</th>\n",
       "      <th>review_overall_mean</th>\n",
       "      <th>review_overall_median</th>\n",
       "    </tr>\n",
       "  </thead>\n",
       "  <tbody>\n",
       "    <tr>\n",
       "      <th>4661</th>\n",
       "      <td>Founders KBS (Kentucky Breakfast Stout)</td>\n",
       "      <td>1873</td>\n",
       "      <td>4.402029</td>\n",
       "      <td>4.5</td>\n",
       "    </tr>\n",
       "    <tr>\n",
       "      <th>12865</th>\n",
       "      <td>Tröegs Nugget Nectar</td>\n",
       "      <td>1878</td>\n",
       "      <td>4.394835</td>\n",
       "      <td>4.5</td>\n",
       "    </tr>\n",
       "    <tr>\n",
       "      <th>4614</th>\n",
       "      <td>Founders Breakfast Stout</td>\n",
       "      <td>2443</td>\n",
       "      <td>4.359394</td>\n",
       "      <td>4.5</td>\n",
       "    </tr>\n",
       "  </tbody>\n",
       "</table>\n",
       "</div>"
      ],
      "text/plain": [
       "                                     beer_name  review_overall_count  \\\n",
       "4661   Founders KBS (Kentucky Breakfast Stout)                  1873   \n",
       "12865                     Tröegs Nugget Nectar                  1878   \n",
       "4614                  Founders Breakfast Stout                  2443   \n",
       "\n",
       "       review_overall_mean  review_overall_median  \n",
       "4661              4.402029                    4.5  \n",
       "12865             4.394835                    4.5  \n",
       "4614              4.359394                    4.5  "
      ]
     },
     "execution_count": 50,
     "metadata": {},
     "output_type": "execute_result"
    }
   ],
   "source": [
    "top_3_rec"
   ]
  },
  {
   "cell_type": "markdown",
   "metadata": {},
   "source": [
    "#### For below part we need 'review text' related data which we analyzed seprately"
   ]
  },
  {
   "cell_type": "code",
   "execution_count": 4,
   "metadata": {},
   "outputs": [],
   "source": [
    "beer_text_reviews = pd.read_csv('../data/BeerDataScienceProject_processed_text.csv', encoding='utf-8')"
   ]
  },
  {
   "cell_type": "code",
   "execution_count": 5,
   "metadata": {},
   "outputs": [
    {
     "name": "stdout",
     "output_type": "stream",
     "text": [
      "<class 'pandas.core.frame.DataFrame'>\n",
      "RangeIndex: 502769 entries, 0 to 502768\n",
      "Data columns (total 10 columns):\n",
      " #   Column              Non-Null Count   Dtype  \n",
      "---  ------              --------------   -----  \n",
      " 0   beer_beerId         502769 non-null  int64  \n",
      " 1   beer_brewerId       502769 non-null  int64  \n",
      " 2   beer_name           502769 non-null  object \n",
      " 3   review_profileName  502769 non-null  object \n",
      " 4   review_overall      502769 non-null  float64\n",
      " 5   beer_style          502769 non-null  object \n",
      " 6   review_text         502769 non-null  object \n",
      " 7   tokens_count        502769 non-null  int64  \n",
      " 8   sents               502769 non-null  int64  \n",
      " 9   sentiment_pol       502769 non-null  float64\n",
      "dtypes: float64(2), int64(4), object(4)\n",
      "memory usage: 38.4+ MB\n"
     ]
    }
   ],
   "source": [
    "beer_text_reviews.info()"
   ]
  },
  {
   "cell_type": "markdown",
   "metadata": {},
   "source": [
    "##### Which Beer style seems to be the favorite based on reviews written by users? "
   ]
  },
  {
   "cell_type": "markdown",
   "metadata": {},
   "source": [
    "> To find most favourite styles I collected all beer styles and maximum sentiment score from user rating and then selected beer styles with maximum sentiment score"
   ]
  },
  {
   "cell_type": "code",
   "execution_count": 6,
   "metadata": {},
   "outputs": [],
   "source": [
    "beer_review_sentiment = beer_text_reviews.groupby(['beer_style']).agg(max_sent_score=('sentiment_pol', max))\n",
    "beer_review_sentiment = beer_review_sentiment.sort_values(['max_sent_score'], ascending=False).reset_index()\n"
   ]
  },
  {
   "cell_type": "code",
   "execution_count": 7,
   "metadata": {},
   "outputs": [],
   "source": [
    "top_review_sentiment = beer_review_sentiment['max_sent_score'].values == 1\n",
    "top_beers_from_review_sentiment = beer_review_sentiment[top_review_sentiment]"
   ]
  },
  {
   "cell_type": "code",
   "execution_count": 8,
   "metadata": {},
   "outputs": [
    {
     "name": "stdout",
     "output_type": "stream",
     "text": [
      "Most Favourite Beer Styles - Dubbel, Irish Red Ale, Belgian Strong Dark Ale, American Double / Imperial Stout, American Stout, Scotch Ale / Wee Heavy, Belgian Strong Pale Ale, Winter Warmer, American Amber / Red Lager\n"
     ]
    }
   ],
   "source": [
    "print(f\"Most Favourite Beer Styles - {', '.join(top_beers_from_review_sentiment.beer_style.to_list())}\")"
   ]
  },
  {
   "cell_type": "markdown",
   "metadata": {},
   "source": [
    "> To find most favourite styles I collected all beer styles and maximum sentiment score from user rating and overall rating then selected beer styles with maximum of both scores"
   ]
  },
  {
   "cell_type": "code",
   "execution_count": 9,
   "metadata": {},
   "outputs": [],
   "source": [
    "# Top beers from review sentiment_and overall rating\n",
    "beers_rev_sent_and_rating = beer_text_reviews.groupby(['beer_style']).agg(max_review_overall=('review_overall', max), max_sentiment_score=('sentiment_pol', max))"
   ]
  },
  {
   "cell_type": "code",
   "execution_count": 10,
   "metadata": {},
   "outputs": [
    {
     "data": {
      "text/html": [
       "<div>\n",
       "<style scoped>\n",
       "    .dataframe tbody tr th:only-of-type {\n",
       "        vertical-align: middle;\n",
       "    }\n",
       "\n",
       "    .dataframe tbody tr th {\n",
       "        vertical-align: top;\n",
       "    }\n",
       "\n",
       "    .dataframe thead th {\n",
       "        text-align: right;\n",
       "    }\n",
       "</style>\n",
       "<table border=\"1\" class=\"dataframe\">\n",
       "  <thead>\n",
       "    <tr style=\"text-align: right;\">\n",
       "      <th></th>\n",
       "      <th>beer_style</th>\n",
       "      <th>max_review_overall</th>\n",
       "      <th>max_sentiment_score</th>\n",
       "    </tr>\n",
       "  </thead>\n",
       "  <tbody>\n",
       "    <tr>\n",
       "      <th>0</th>\n",
       "      <td>American Amber / Red Lager</td>\n",
       "      <td>5.0</td>\n",
       "      <td>1.000000</td>\n",
       "    </tr>\n",
       "    <tr>\n",
       "      <th>1</th>\n",
       "      <td>American Double / Imperial Stout</td>\n",
       "      <td>5.0</td>\n",
       "      <td>1.000000</td>\n",
       "    </tr>\n",
       "    <tr>\n",
       "      <th>2</th>\n",
       "      <td>American Stout</td>\n",
       "      <td>5.0</td>\n",
       "      <td>1.000000</td>\n",
       "    </tr>\n",
       "    <tr>\n",
       "      <th>3</th>\n",
       "      <td>Belgian Strong Dark Ale</td>\n",
       "      <td>5.0</td>\n",
       "      <td>1.000000</td>\n",
       "    </tr>\n",
       "    <tr>\n",
       "      <th>4</th>\n",
       "      <td>Belgian Strong Pale Ale</td>\n",
       "      <td>5.0</td>\n",
       "      <td>1.000000</td>\n",
       "    </tr>\n",
       "    <tr>\n",
       "      <th>...</th>\n",
       "      <td>...</td>\n",
       "      <td>...</td>\n",
       "      <td>...</td>\n",
       "    </tr>\n",
       "    <tr>\n",
       "      <th>99</th>\n",
       "      <td>Bière de Champagne / Bière Brut</td>\n",
       "      <td>5.0</td>\n",
       "      <td>0.412500</td>\n",
       "    </tr>\n",
       "    <tr>\n",
       "      <th>100</th>\n",
       "      <td>Faro</td>\n",
       "      <td>5.0</td>\n",
       "      <td>0.409444</td>\n",
       "    </tr>\n",
       "    <tr>\n",
       "      <th>101</th>\n",
       "      <td>Eisbock</td>\n",
       "      <td>5.0</td>\n",
       "      <td>0.375138</td>\n",
       "    </tr>\n",
       "    <tr>\n",
       "      <th>102</th>\n",
       "      <td>Sahti</td>\n",
       "      <td>5.0</td>\n",
       "      <td>0.366829</td>\n",
       "    </tr>\n",
       "    <tr>\n",
       "      <th>103</th>\n",
       "      <td>Happoshu</td>\n",
       "      <td>5.0</td>\n",
       "      <td>0.351667</td>\n",
       "    </tr>\n",
       "  </tbody>\n",
       "</table>\n",
       "<p>104 rows × 3 columns</p>\n",
       "</div>"
      ],
      "text/plain": [
       "                           beer_style  max_review_overall  max_sentiment_score\n",
       "0          American Amber / Red Lager                 5.0             1.000000\n",
       "1    American Double / Imperial Stout                 5.0             1.000000\n",
       "2                      American Stout                 5.0             1.000000\n",
       "3             Belgian Strong Dark Ale                 5.0             1.000000\n",
       "4             Belgian Strong Pale Ale                 5.0             1.000000\n",
       "..                                ...                 ...                  ...\n",
       "99    Bière de Champagne / Bière Brut                 5.0             0.412500\n",
       "100                              Faro                 5.0             0.409444\n",
       "101                           Eisbock                 5.0             0.375138\n",
       "102                             Sahti                 5.0             0.366829\n",
       "103                          Happoshu                 5.0             0.351667\n",
       "\n",
       "[104 rows x 3 columns]"
      ]
     },
     "execution_count": 10,
     "metadata": {},
     "output_type": "execute_result"
    }
   ],
   "source": [
    "beers_rev_sent_and_rating.sort_values(['max_review_overall', 'max_sentiment_score'], ascending=(False, False)).reset_index()"
   ]
  },
  {
   "cell_type": "code",
   "execution_count": 11,
   "metadata": {},
   "outputs": [],
   "source": [
    "top_beers_from_rev_sent_and_rating = beers_rev_sent_and_rating[(beers_rev_sent_and_rating['max_sentiment_score'] == 1 )\\\n",
    "    & (beers_rev_sent_and_rating['max_review_overall'] == 5.0)]"
   ]
  },
  {
   "cell_type": "code",
   "execution_count": 12,
   "metadata": {},
   "outputs": [
    {
     "name": "stdout",
     "output_type": "stream",
     "text": [
      "Most Favourite Beer Styles from Sentiment and Overall Rating - American Amber / Red Lager, American Double / Imperial Stout, American Stout, Belgian Strong Dark Ale, Belgian Strong Pale Ale, Dubbel, Irish Red Ale, Scotch Ale / Wee Heavy, Winter Warmer\n"
     ]
    }
   ],
   "source": [
    "print(f\"Most Favourite Beer Styles from Sentiment and Overall Rating - {', '.join(top_beers_from_rev_sent_and_rating.index.values)}\")"
   ]
  },
  {
   "cell_type": "markdown",
   "metadata": {},
   "source": [
    "##### How does written review compare to overall review score for the beer styles?"
   ]
  },
  {
   "cell_type": "code",
   "execution_count": 13,
   "metadata": {},
   "outputs": [
    {
     "data": {
      "image/png": "[encoded data removed]",
      "text/plain": [
       "<Figure size 1250x500 with 1 Axes>"
      ]
     },
     "metadata": {},
     "output_type": "display_data"
    }
   ],
   "source": [
    "sns.displot(data=beer_text_reviews, x='sentiment_pol', aspect=2.5, color=\"tab:blue\")\n",
    "plt.xlabel('Sentiment per Review')\n",
    "plt.ylabel('Reviews')\n",
    "sns.despine()\n",
    "plt.savefig('../reports/figures/snetiment_score_per_review_distribution.png', bbox_inches='tight')\n",
    "plt.show()"
   ]
  },
  {
   "cell_type": "code",
   "execution_count": 14,
   "metadata": {},
   "outputs": [
    {
     "data": {
      "image/png": "[encoded data removed]",
      "text/plain": [
       "<Figure size 640x480 with 1 Axes>"
      ]
     },
     "metadata": {},
     "output_type": "display_data"
    }
   ],
   "source": [
    "\n",
    "sns.scatterplot(data=beer_text_reviews, y='review_overall', x='sentiment_pol', color=\"tab:blue\")\n",
    "plt.xlabel('sentiment')\n",
    "plt.ylabel('Review Overall')\n",
    "sns.despine()\n",
    "plt.savefig('../reports/figures/sentiment_and_overall_review_relation.png', bbox_inches='tight')\n",
    "plt.show()"
   ]
  },
  {
   "cell_type": "code",
   "execution_count": 15,
   "metadata": {},
   "outputs": [
    {
     "data": {
      "image/png": "[encoded data removed]",
      "text/plain": [
       "<Figure size 640x480 with 1 Axes>"
      ]
     },
     "metadata": {},
     "output_type": "display_data"
    }
   ],
   "source": [
    "sns.scatterplot(data=beer_text_reviews, x='tokens_count', y='review_overall', color=\"tab:blue\")\n",
    "plt.xlabel('Length of Review')\n",
    "plt.ylabel('Review overall')\n",
    "sns.despine()\n",
    "plt.savefig('../reports/figures/sentiment_and_length_of_review_relation.png', bbox_inches='tight')\n",
    "plt.show()"
   ]
  },
  {
   "cell_type": "code",
   "execution_count": 36,
   "metadata": {},
   "outputs": [
    {
     "data": {
      "image/png": "[encoded data removed]",
      "text/plain": [
       "<Figure size 640x480 with 1 Axes>"
      ]
     },
     "metadata": {},
     "output_type": "display_data"
    }
   ],
   "source": [
    "sns.scatterplot(data=beer_text_reviews, x='sents', y='review_overall', color=\"tab:blue\")\n",
    "plt.xlabel('Numbers of sentences in Review')\n",
    "plt.ylabel('Review overall')\n",
    "sns.despine()\n",
    "plt.savefig('../reports/figures/sentiment_and_total_sent_review_relation.png', bbox_inches='tight')\n",
    "plt.show()"
   ]
  },
  {
   "cell_type": "markdown",
   "metadata": {},
   "source": [
    "> Here, to go deep in relation between writen review and overall rating, we can use count of adjectives in review text "
   ]
  },
  {
   "cell_type": "markdown",
   "metadata": {},
   "source": [
    "Reference - http://jmcauley.ucsd.edu/cse255/projects/wi15/Benjamin_Braun_Robert%20Timpe.pdf"
   ]
  },
  {
   "cell_type": "markdown",
   "metadata": {},
   "source": [
    "> From above graphs we can say that Positive reviews tend to me lengthy, and negative reviews are shorter in comparison"
   ]
  },
  {
   "cell_type": "markdown",
   "metadata": {},
   "source": [
    "##### How do find similar beer drinkers by using written reviews only?"
   ]
  },
  {
   "cell_type": "markdown",
   "metadata": {},
   "source": [
    "> Collaborative filtering uses algorithms to filter data from user reviews to make personalized recommendations for users with similar preferences. With this we can find out similar beer drinkers."
   ]
  },
  {
   "cell_type": "markdown",
   "metadata": {},
   "source": [
    "> Three types of collaborative filtering commonly used in recommendation systems are neighbor-based, item-to-item and classification- based.\n",
    "\n",
    "> In neighbor-based filtering, users are selected for their similarity to the active user. This similarity is determined by matching users who have posted similar reviews. Based on the previous similarity, it is presumed that future likes and dislikes will also be similar. From the average rating of the group, recommendations are made for the active user.\n",
    "\n",
    "> An item-to-item filtering process uses a matrix to determine the likeness of pairs of items. Item-to-item processes then compare the current user’s preference to the items in the matrix for similarities upon which to base recommendations.\n",
    "\n",
    "> A classification-based collaborative filtering system recommends things based on how similar users liked that classification or genre. It is assumed that users that enjoy or dislike similar experiences within a classification will also enjoy others within that classification."
   ]
  },
  {
   "cell_type": "markdown",
   "metadata": {},
   "source": [
    "> Here I am trying out content based filtering on sample of data to find out if we can get similar users if given a user"
   ]
  },
  {
   "cell_type": "code",
   "execution_count": 160,
   "metadata": {},
   "outputs": [
    {
     "data": {
      "text/html": [
       "<div>\n",
       "<style scoped>\n",
       "    .dataframe tbody tr th:only-of-type {\n",
       "        vertical-align: middle;\n",
       "    }\n",
       "\n",
       "    .dataframe tbody tr th {\n",
       "        vertical-align: top;\n",
       "    }\n",
       "\n",
       "    .dataframe thead th {\n",
       "        text-align: right;\n",
       "    }\n",
       "</style>\n",
       "<table border=\"1\" class=\"dataframe\">\n",
       "  <thead>\n",
       "    <tr style=\"text-align: right;\">\n",
       "      <th></th>\n",
       "      <th>beer_beerId</th>\n",
       "      <th>beer_brewerId</th>\n",
       "      <th>beer_name</th>\n",
       "      <th>review_profileName</th>\n",
       "      <th>review_overall</th>\n",
       "      <th>beer_style</th>\n",
       "      <th>review_text</th>\n",
       "      <th>tokens_count</th>\n",
       "      <th>sents</th>\n",
       "      <th>sentiment_pol</th>\n",
       "    </tr>\n",
       "  </thead>\n",
       "  <tbody>\n",
       "    <tr>\n",
       "      <th>0</th>\n",
       "      <td>1339</td>\n",
       "      <td>132</td>\n",
       "      <td>Hazelnut Brown Nectar</td>\n",
       "      <td>prosper</td>\n",
       "      <td>5.0</td>\n",
       "      <td>American Brown Ale</td>\n",
       "      <td>Served at ~15C. Gorgeous pour. Nut brown, slig...</td>\n",
       "      <td>119</td>\n",
       "      <td>13</td>\n",
       "      <td>0.258824</td>\n",
       "    </tr>\n",
       "    <tr>\n",
       "      <th>1</th>\n",
       "      <td>689</td>\n",
       "      <td>221</td>\n",
       "      <td>Red Stripe Jamaican Lager</td>\n",
       "      <td>AussieInPhilly</td>\n",
       "      <td>5.0</td>\n",
       "      <td>American Adjunct Lager</td>\n",
       "      <td>This beer is tops. The crisp, yet smooth taste...</td>\n",
       "      <td>61</td>\n",
       "      <td>7</td>\n",
       "      <td>0.393827</td>\n",
       "    </tr>\n",
       "    <tr>\n",
       "      <th>2</th>\n",
       "      <td>15881</td>\n",
       "      <td>694</td>\n",
       "      <td>Tröegs Nugget Nectar</td>\n",
       "      <td>abents</td>\n",
       "      <td>5.0</td>\n",
       "      <td>American Amber / Red Ale</td>\n",
       "      <td>Thanks to mikereaser for sending this in a tra...</td>\n",
       "      <td>205</td>\n",
       "      <td>13</td>\n",
       "      <td>0.307530</td>\n",
       "    </tr>\n",
       "    <tr>\n",
       "      <th>3</th>\n",
       "      <td>571</td>\n",
       "      <td>113</td>\n",
       "      <td>Samuel Smith's Oatmeal Stout</td>\n",
       "      <td>cuzinpete00</td>\n",
       "      <td>5.0</td>\n",
       "      <td>Oatmeal Stout</td>\n",
       "      <td>this beer is a must try. very drinkable and ve...</td>\n",
       "      <td>52</td>\n",
       "      <td>5</td>\n",
       "      <td>0.330000</td>\n",
       "    </tr>\n",
       "    <tr>\n",
       "      <th>4</th>\n",
       "      <td>689</td>\n",
       "      <td>221</td>\n",
       "      <td>Red Stripe Jamaican Lager</td>\n",
       "      <td>lordbrad1</td>\n",
       "      <td>5.0</td>\n",
       "      <td>American Adjunct Lager</td>\n",
       "      <td>I've never met anyone that didn't like this be...</td>\n",
       "      <td>86</td>\n",
       "      <td>5</td>\n",
       "      <td>0.059398</td>\n",
       "    </tr>\n",
       "  </tbody>\n",
       "</table>\n",
       "</div>"
      ],
      "text/plain": [
       "   beer_beerId  beer_brewerId                     beer_name  \\\n",
       "0         1339            132         Hazelnut Brown Nectar   \n",
       "1          689            221     Red Stripe Jamaican Lager   \n",
       "2        15881            694          Tröegs Nugget Nectar   \n",
       "3          571            113  Samuel Smith's Oatmeal Stout   \n",
       "4          689            221     Red Stripe Jamaican Lager   \n",
       "\n",
       "  review_profileName  review_overall                beer_style  \\\n",
       "0            prosper             5.0        American Brown Ale   \n",
       "1     AussieInPhilly             5.0    American Adjunct Lager   \n",
       "2             abents             5.0  American Amber / Red Ale   \n",
       "3        cuzinpete00             5.0             Oatmeal Stout   \n",
       "4          lordbrad1             5.0    American Adjunct Lager   \n",
       "\n",
       "                                         review_text  tokens_count  sents  \\\n",
       "0  Served at ~15C. Gorgeous pour. Nut brown, slig...           119     13   \n",
       "1  This beer is tops. The crisp, yet smooth taste...            61      7   \n",
       "2  Thanks to mikereaser for sending this in a tra...           205     13   \n",
       "3  this beer is a must try. very drinkable and ve...            52      5   \n",
       "4  I've never met anyone that didn't like this be...            86      5   \n",
       "\n",
       "   sentiment_pol  \n",
       "0       0.258824  \n",
       "1       0.393827  \n",
       "2       0.307530  \n",
       "3       0.330000  \n",
       "4       0.059398  "
      ]
     },
     "execution_count": 160,
     "metadata": {},
     "output_type": "execute_result"
    }
   ],
   "source": [
    "beer_text_reviews.head()"
   ]
  },
  {
   "cell_type": "code",
   "execution_count": 16,
   "metadata": {},
   "outputs": [],
   "source": [
    "clean_spcl = re.compile('[/(){}\\[\\]\\|@,;]')\n",
    "clean_symbol = re.compile('[^0-9a-z #+_]')\n",
    "stopwords = set(stopwords.words('english'))\n",
    "\n",
    "def clean_text(text):\n",
    "    text = text.lower() # lowercase text\n",
    "    text = clean_spcl.sub(' ', text)\n",
    "    text = clean_symbol.sub('', text)\n",
    "    text = ' '.join(word for word in text.split() if word not in stopwords)\n",
    "    return text\n",
    "\n",
    "# Selecting small sample for expirement\n",
    "\n",
    "beer_text_sample = beer_text_reviews.groupby('review_profileName', group_keys=False).apply(lambda x: x.sample(frac=0.05))\n",
    "beer_text_sample['review_clean'] = beer_text_sample['review_text'].apply(clean_text)"
   ]
  },
  {
   "cell_type": "code",
   "execution_count": 17,
   "metadata": {},
   "outputs": [
    {
     "name": "stdout",
     "output_type": "stream",
     "text": [
      "<class 'pandas.core.frame.DataFrame'>\n",
      "Int64Index: 23322 entries, 74759 to 269350\n",
      "Data columns (total 11 columns):\n",
      " #   Column              Non-Null Count  Dtype  \n",
      "---  ------              --------------  -----  \n",
      " 0   beer_beerId         23322 non-null  int64  \n",
      " 1   beer_brewerId       23322 non-null  int64  \n",
      " 2   beer_name           23322 non-null  object \n",
      " 3   review_profileName  23322 non-null  object \n",
      " 4   review_overall      23322 non-null  float64\n",
      " 5   beer_style          23322 non-null  object \n",
      " 6   review_text         23322 non-null  object \n",
      " 7   tokens_count        23322 non-null  int64  \n",
      " 8   sents               23322 non-null  int64  \n",
      " 9   sentiment_pol       23322 non-null  float64\n",
      " 10  review_clean        23322 non-null  object \n",
      "dtypes: float64(2), int64(4), object(5)\n",
      "memory usage: 2.1+ MB\n"
     ]
    }
   ],
   "source": [
    "beer_text_sample.info()"
   ]
  },
  {
   "cell_type": "code",
   "execution_count": 18,
   "metadata": {},
   "outputs": [],
   "source": [
    "beer_text_sample.set_index('review_profileName', inplace=True)\n",
    "tf = TfidfVectorizer(analyzer='word', ngram_range=(1, 2), min_df=0, stop_words='english')\n",
    "tfidf_matrix = tf.fit_transform(beer_text_sample['review_clean'])"
   ]
  },
  {
   "cell_type": "markdown",
   "metadata": {},
   "source": [
    "> Here Profile name is used as index to train TF IDF vectorizer using cleaned review text"
   ]
  },
  {
   "cell_type": "code",
   "execution_count": 19,
   "metadata": {},
   "outputs": [
    {
     "data": {
      "text/html": [
       "<div>\n",
       "<style scoped>\n",
       "    .dataframe tbody tr th:only-of-type {\n",
       "        vertical-align: middle;\n",
       "    }\n",
       "\n",
       "    .dataframe tbody tr th {\n",
       "        vertical-align: top;\n",
       "    }\n",
       "\n",
       "    .dataframe thead th {\n",
       "        text-align: right;\n",
       "    }\n",
       "</style>\n",
       "<table border=\"1\" class=\"dataframe\">\n",
       "  <thead>\n",
       "    <tr style=\"text-align: right;\">\n",
       "      <th></th>\n",
       "      <th>beer_beerId</th>\n",
       "      <th>beer_brewerId</th>\n",
       "      <th>beer_name</th>\n",
       "      <th>review_overall</th>\n",
       "      <th>beer_style</th>\n",
       "      <th>review_text</th>\n",
       "      <th>tokens_count</th>\n",
       "      <th>sents</th>\n",
       "      <th>sentiment_pol</th>\n",
       "      <th>review_clean</th>\n",
       "    </tr>\n",
       "    <tr>\n",
       "      <th>review_profileName</th>\n",
       "      <th></th>\n",
       "      <th></th>\n",
       "      <th></th>\n",
       "      <th></th>\n",
       "      <th></th>\n",
       "      <th></th>\n",
       "      <th></th>\n",
       "      <th></th>\n",
       "      <th></th>\n",
       "      <th></th>\n",
       "    </tr>\n",
       "  </thead>\n",
       "  <tbody>\n",
       "    <tr>\n",
       "      <th>0110x011</th>\n",
       "      <td>7531</td>\n",
       "      <td>694</td>\n",
       "      <td>Tröegs Mad Elf</td>\n",
       "      <td>4.5</td>\n",
       "      <td>Belgian Strong Dark Ale</td>\n",
       "      <td>2007 release. Pours a murky copper, bordering ...</td>\n",
       "      <td>106</td>\n",
       "      <td>10</td>\n",
       "      <td>0.017857</td>\n",
       "      <td>2007 release pours murky copper bordering red ...</td>\n",
       "    </tr>\n",
       "    <tr>\n",
       "      <th>0110x011</th>\n",
       "      <td>42533</td>\n",
       "      <td>140</td>\n",
       "      <td>Sierra Nevada Southern Hemisphere Harvest Fres...</td>\n",
       "      <td>4.5</td>\n",
       "      <td>American IPA</td>\n",
       "      <td>pours a crystal clear copper with a one finger...</td>\n",
       "      <td>54</td>\n",
       "      <td>4</td>\n",
       "      <td>0.236667</td>\n",
       "      <td>pours crystal clear copper one finger head qui...</td>\n",
       "    </tr>\n",
       "    <tr>\n",
       "      <th>05Harley</th>\n",
       "      <td>51679</td>\n",
       "      <td>94</td>\n",
       "      <td>Imperial Porter (Brewmaster Series)</td>\n",
       "      <td>4.5</td>\n",
       "      <td>American Porter</td>\n",
       "      <td>Botled on 9/21/11 Purchased @ Johnsons Market ...</td>\n",
       "      <td>143</td>\n",
       "      <td>12</td>\n",
       "      <td>0.216900</td>\n",
       "      <td>botled 9 21 11 purchased johnsons market place...</td>\n",
       "    </tr>\n",
       "    <tr>\n",
       "      <th>05Harley</th>\n",
       "      <td>72789</td>\n",
       "      <td>20417</td>\n",
       "      <td>White Birch Birchwood Smoked Stout</td>\n",
       "      <td>4.5</td>\n",
       "      <td>Smoked Beer</td>\n",
       "      <td>Bottled on 5/11, batch 1, bottle #1152 Purchas...</td>\n",
       "      <td>195</td>\n",
       "      <td>13</td>\n",
       "      <td>0.259492</td>\n",
       "      <td>bottled 5 11 batch 1 bottle #1152 purchased jo...</td>\n",
       "    </tr>\n",
       "    <tr>\n",
       "      <th>0tt0</th>\n",
       "      <td>694</td>\n",
       "      <td>22</td>\n",
       "      <td>Don de Dieu</td>\n",
       "      <td>4.5</td>\n",
       "      <td>Belgian Strong Pale Ale</td>\n",
       "      <td>750 ml bottle, with a \"best by\" date of 12/14/...</td>\n",
       "      <td>175</td>\n",
       "      <td>18</td>\n",
       "      <td>0.221667</td>\n",
       "      <td>750 ml bottle best date 12 14 08 decanted duve...</td>\n",
       "    </tr>\n",
       "    <tr>\n",
       "      <th>100floods</th>\n",
       "      <td>51420</td>\n",
       "      <td>5318</td>\n",
       "      <td>Santa's Little Helper - Bourbon Barrel Aged</td>\n",
       "      <td>3.0</td>\n",
       "      <td>American Double / Imperial Stout</td>\n",
       "      <td>I am drinking one of the many uncarbonated bat...</td>\n",
       "      <td>191</td>\n",
       "      <td>16</td>\n",
       "      <td>0.153897</td>\n",
       "      <td>drinking one many uncarbonated batches provide...</td>\n",
       "    </tr>\n",
       "    <tr>\n",
       "      <th>100floods</th>\n",
       "      <td>30420</td>\n",
       "      <td>140</td>\n",
       "      <td>Sierra Nevada Torpedo Extra IPA</td>\n",
       "      <td>4.5</td>\n",
       "      <td>American IPA</td>\n",
       "      <td>Pours a nice amber/burnt orange, nice cream he...</td>\n",
       "      <td>115</td>\n",
       "      <td>9</td>\n",
       "      <td>0.335965</td>\n",
       "      <td>pours nice amber burnt orange nice cream head ...</td>\n",
       "    </tr>\n",
       "    <tr>\n",
       "      <th>1099</th>\n",
       "      <td>576</td>\n",
       "      <td>113</td>\n",
       "      <td>Samuel Smith's Nut Brown Ale</td>\n",
       "      <td>4.5</td>\n",
       "      <td>English Brown Ale</td>\n",
       "      <td>This is my second review of a Samuel Smiths pr...</td>\n",
       "      <td>163</td>\n",
       "      <td>11</td>\n",
       "      <td>0.226104</td>\n",
       "      <td>second review samuel smiths product thus far i...</td>\n",
       "    </tr>\n",
       "    <tr>\n",
       "      <th>1121987</th>\n",
       "      <td>35409</td>\n",
       "      <td>433</td>\n",
       "      <td>Rickard's White</td>\n",
       "      <td>5.0</td>\n",
       "      <td>Witbier</td>\n",
       "      <td>i saw a post about this rating higher than hoe...</td>\n",
       "      <td>129</td>\n",
       "      <td>10</td>\n",
       "      <td>0.171852</td>\n",
       "      <td>saw post rating higher hoegarden blind tasting...</td>\n",
       "    </tr>\n",
       "    <tr>\n",
       "      <th>11osixBrew</th>\n",
       "      <td>20600</td>\n",
       "      <td>22</td>\n",
       "      <td>Édition 2005</td>\n",
       "      <td>3.0</td>\n",
       "      <td>Belgian Strong Dark Ale</td>\n",
       "      <td>750 mL brown corked bottle poured into Sam Ada...</td>\n",
       "      <td>243</td>\n",
       "      <td>24</td>\n",
       "      <td>0.020753</td>\n",
       "      <td>750 ml brown corked bottle poured sam adams pi...</td>\n",
       "    </tr>\n",
       "  </tbody>\n",
       "</table>\n",
       "</div>"
      ],
      "text/plain": [
       "                    beer_beerId  beer_brewerId  \\\n",
       "review_profileName                               \n",
       "0110x011                   7531            694   \n",
       "0110x011                  42533            140   \n",
       "05Harley                  51679             94   \n",
       "05Harley                  72789          20417   \n",
       "0tt0                        694             22   \n",
       "100floods                 51420           5318   \n",
       "100floods                 30420            140   \n",
       "1099                        576            113   \n",
       "1121987                   35409            433   \n",
       "11osixBrew                20600             22   \n",
       "\n",
       "                                                            beer_name  \\\n",
       "review_profileName                                                      \n",
       "0110x011                                               Tröegs Mad Elf   \n",
       "0110x011            Sierra Nevada Southern Hemisphere Harvest Fres...   \n",
       "05Harley                          Imperial Porter (Brewmaster Series)   \n",
       "05Harley                           White Birch Birchwood Smoked Stout   \n",
       "0tt0                                                      Don de Dieu   \n",
       "100floods                 Santa's Little Helper - Bourbon Barrel Aged   \n",
       "100floods                             Sierra Nevada Torpedo Extra IPA   \n",
       "1099                                     Samuel Smith's Nut Brown Ale   \n",
       "1121987                                               Rickard's White   \n",
       "11osixBrew                                               Édition 2005   \n",
       "\n",
       "                    review_overall                        beer_style  \\\n",
       "review_profileName                                                     \n",
       "0110x011                       4.5           Belgian Strong Dark Ale   \n",
       "0110x011                       4.5                      American IPA   \n",
       "05Harley                       4.5                   American Porter   \n",
       "05Harley                       4.5                       Smoked Beer   \n",
       "0tt0                           4.5           Belgian Strong Pale Ale   \n",
       "100floods                      3.0  American Double / Imperial Stout   \n",
       "100floods                      4.5                      American IPA   \n",
       "1099                           4.5                 English Brown Ale   \n",
       "1121987                        5.0                           Witbier   \n",
       "11osixBrew                     3.0           Belgian Strong Dark Ale   \n",
       "\n",
       "                                                          review_text  \\\n",
       "review_profileName                                                      \n",
       "0110x011            2007 release. Pours a murky copper, bordering ...   \n",
       "0110x011            pours a crystal clear copper with a one finger...   \n",
       "05Harley            Botled on 9/21/11 Purchased @ Johnsons Market ...   \n",
       "05Harley            Bottled on 5/11, batch 1, bottle #1152 Purchas...   \n",
       "0tt0                750 ml bottle, with a \"best by\" date of 12/14/...   \n",
       "100floods           I am drinking one of the many uncarbonated bat...   \n",
       "100floods           Pours a nice amber/burnt orange, nice cream he...   \n",
       "1099                This is my second review of a Samuel Smiths pr...   \n",
       "1121987             i saw a post about this rating higher than hoe...   \n",
       "11osixBrew          750 mL brown corked bottle poured into Sam Ada...   \n",
       "\n",
       "                    tokens_count  sents  sentiment_pol  \\\n",
       "review_profileName                                       \n",
       "0110x011                     106     10       0.017857   \n",
       "0110x011                      54      4       0.236667   \n",
       "05Harley                     143     12       0.216900   \n",
       "05Harley                     195     13       0.259492   \n",
       "0tt0                         175     18       0.221667   \n",
       "100floods                    191     16       0.153897   \n",
       "100floods                    115      9       0.335965   \n",
       "1099                         163     11       0.226104   \n",
       "1121987                      129     10       0.171852   \n",
       "11osixBrew                   243     24       0.020753   \n",
       "\n",
       "                                                         review_clean  \n",
       "review_profileName                                                     \n",
       "0110x011            2007 release pours murky copper bordering red ...  \n",
       "0110x011            pours crystal clear copper one finger head qui...  \n",
       "05Harley            botled 9 21 11 purchased johnsons market place...  \n",
       "05Harley            bottled 5 11 batch 1 bottle #1152 purchased jo...  \n",
       "0tt0                750 ml bottle best date 12 14 08 decanted duve...  \n",
       "100floods           drinking one many uncarbonated batches provide...  \n",
       "100floods           pours nice amber burnt orange nice cream head ...  \n",
       "1099                second review samuel smiths product thus far i...  \n",
       "1121987             saw post rating higher hoegarden blind tasting...  \n",
       "11osixBrew          750 ml brown corked bottle poured sam adams pi...  "
      ]
     },
     "execution_count": 19,
     "metadata": {},
     "output_type": "execute_result"
    }
   ],
   "source": [
    "beer_text_sample.head(10)"
   ]
  },
  {
   "cell_type": "markdown",
   "metadata": {},
   "source": [
    "> Now we calculate Cosine similarity of obtained tfidf matrix to get similrity scores for all users in sample"
   ]
  },
  {
   "cell_type": "code",
   "execution_count": 20,
   "metadata": {},
   "outputs": [],
   "source": [
    "cos_sim = cosine_similarity(tfidf_matrix, tfidf_matrix)"
   ]
  },
  {
   "cell_type": "code",
   "execution_count": 41,
   "metadata": {},
   "outputs": [],
   "source": [
    "# getting indices from dataframe for matching with input to function which finds similar user\n",
    "indices = pd.Series(beer_text_sample.index)"
   ]
  },
  {
   "cell_type": "code",
   "execution_count": 42,
   "metadata": {},
   "outputs": [
    {
     "data": {
      "text/plain": [
       "0      0110x011\n",
       "1      0110x011\n",
       "2      05Harley\n",
       "3      05Harley\n",
       "4          0tt0\n",
       "5     100floods\n",
       "6     100floods\n",
       "7          1099\n",
       "8       1121987\n",
       "9    11osixBrew\n",
       "Name: review_profileName, dtype: object"
      ]
     },
     "execution_count": 42,
     "metadata": {},
     "output_type": "execute_result"
    }
   ],
   "source": [
    "indices[:10]"
   ]
  },
  {
   "cell_type": "code",
   "execution_count": 43,
   "metadata": {},
   "outputs": [],
   "source": [
    "# function to find similar beer drinkers\n",
    "\n",
    "def similar_beer_drinkers(profile_name, cos_sim = cos_sim):\n",
    "    \n",
    "    similar_profile_name = []\n",
    "    \n",
    "    idx = indices[indices == profile_name].index[0]\n",
    "\n",
    "    score_series = pd.Series(cos_sim[idx]).sort_values(ascending = False)\n",
    "\n",
    "    top_5_indexes = list(score_series.iloc[1:6].index)\n",
    "    \n",
    "    for i in top_5_indexes:\n",
    "        similar_profile_name.append(list(beer_text_sample.index)[i])\n",
    "        \n",
    "    return similar_profile_name"
   ]
  },
  {
   "cell_type": "code",
   "execution_count": 44,
   "metadata": {},
   "outputs": [],
   "source": [
    "# List of similar beer drinkers for given profile name\n",
    "group_similar = similar_beer_drinkers('prosper')"
   ]
  },
  {
   "cell_type": "code",
   "execution_count": 45,
   "metadata": {},
   "outputs": [
    {
     "data": {
      "text/plain": [
       "['tdm168', 'PhillyCop', 'jsprain1', 'DJED69', 'arboristfish']"
      ]
     },
     "execution_count": 45,
     "metadata": {},
     "output_type": "execute_result"
    }
   ],
   "source": [
    "group_similar"
   ]
  },
  {
   "cell_type": "code",
   "execution_count": 46,
   "metadata": {},
   "outputs": [],
   "source": [
    "# dumping tfidf vocabulary and model \n",
    "import pickle\n",
    "pickle.dump(tf.vocabulary_, open('../models/features.pkl','wb'))\n",
    "pickle.dump(tf, open('../models/tfidf_vect_model.pk', 'wb'))"
   ]
  },
  {
   "cell_type": "markdown",
   "metadata": {},
   "source": [
    "> Finding out entries for similar users found by function"
   ]
  },
  {
   "cell_type": "code",
   "execution_count": 47,
   "metadata": {},
   "outputs": [
    {
     "data": {
      "text/html": [
       "<div>\n",
       "<style scoped>\n",
       "    .dataframe tbody tr th:only-of-type {\n",
       "        vertical-align: middle;\n",
       "    }\n",
       "\n",
       "    .dataframe tbody tr th {\n",
       "        vertical-align: top;\n",
       "    }\n",
       "\n",
       "    .dataframe thead th {\n",
       "        text-align: right;\n",
       "    }\n",
       "</style>\n",
       "<table border=\"1\" class=\"dataframe\">\n",
       "  <thead>\n",
       "    <tr style=\"text-align: right;\">\n",
       "      <th></th>\n",
       "      <th>beer_beerId</th>\n",
       "      <th>beer_brewerId</th>\n",
       "      <th>beer_name</th>\n",
       "      <th>review_profileName</th>\n",
       "      <th>review_overall</th>\n",
       "      <th>beer_style</th>\n",
       "      <th>review_text</th>\n",
       "      <th>tokens_count</th>\n",
       "      <th>sents</th>\n",
       "      <th>sentiment_pol</th>\n",
       "    </tr>\n",
       "  </thead>\n",
       "  <tbody>\n",
       "    <tr>\n",
       "      <th>3963</th>\n",
       "      <td>2671</td>\n",
       "      <td>140</td>\n",
       "      <td>Sierra Nevada Bigfoot Barleywine Style Ale</td>\n",
       "      <td>arboristfish</td>\n",
       "      <td>5.0</td>\n",
       "      <td>American Barleywine</td>\n",
       "      <td>The beer pours a cloudy amber color, and the h...</td>\n",
       "      <td>97</td>\n",
       "      <td>7</td>\n",
       "      <td>0.124333</td>\n",
       "    </tr>\n",
       "    <tr>\n",
       "      <th>5807</th>\n",
       "      <td>1503</td>\n",
       "      <td>35</td>\n",
       "      <td>Sam Adams Light</td>\n",
       "      <td>arboristfish</td>\n",
       "      <td>5.0</td>\n",
       "      <td>Light Lager</td>\n",
       "      <td>There arent to many beers that I would give a ...</td>\n",
       "      <td>79</td>\n",
       "      <td>7</td>\n",
       "      <td>0.414643</td>\n",
       "    </tr>\n",
       "    <tr>\n",
       "      <th>6867</th>\n",
       "      <td>246</td>\n",
       "      <td>81</td>\n",
       "      <td>Heineken Lager Beer</td>\n",
       "      <td>PhillyCop</td>\n",
       "      <td>5.0</td>\n",
       "      <td>Euro Pale Lager</td>\n",
       "      <td>I love this beer! I always find Heineken to be...</td>\n",
       "      <td>53</td>\n",
       "      <td>5</td>\n",
       "      <td>0.335208</td>\n",
       "    </tr>\n",
       "    <tr>\n",
       "      <th>8643</th>\n",
       "      <td>11757</td>\n",
       "      <td>1199</td>\n",
       "      <td>Founders Breakfast Stout</td>\n",
       "      <td>jsprain1</td>\n",
       "      <td>5.0</td>\n",
       "      <td>American Double / Imperial Stout</td>\n",
       "      <td>A- Pours a very dark brown. It approaches but ...</td>\n",
       "      <td>216</td>\n",
       "      <td>16</td>\n",
       "      <td>0.263623</td>\n",
       "    </tr>\n",
       "    <tr>\n",
       "      <th>8943</th>\n",
       "      <td>576</td>\n",
       "      <td>113</td>\n",
       "      <td>Samuel Smith's Nut Brown Ale</td>\n",
       "      <td>jsprain1</td>\n",
       "      <td>5.0</td>\n",
       "      <td>English Brown Ale</td>\n",
       "      <td>A- Pours a readish brown with a perfect head t...</td>\n",
       "      <td>105</td>\n",
       "      <td>12</td>\n",
       "      <td>0.475463</td>\n",
       "    </tr>\n",
       "    <tr>\n",
       "      <th>...</th>\n",
       "      <td>...</td>\n",
       "      <td>...</td>\n",
       "      <td>...</td>\n",
       "      <td>...</td>\n",
       "      <td>...</td>\n",
       "      <td>...</td>\n",
       "      <td>...</td>\n",
       "      <td>...</td>\n",
       "      <td>...</td>\n",
       "      <td>...</td>\n",
       "    </tr>\n",
       "    <tr>\n",
       "      <th>425876</th>\n",
       "      <td>747</td>\n",
       "      <td>221</td>\n",
       "      <td>Dragon Stout</td>\n",
       "      <td>jsprain1</td>\n",
       "      <td>3.0</td>\n",
       "      <td>Foreign / Export Stout</td>\n",
       "      <td>A- Pours an almost solid black with a thin kha...</td>\n",
       "      <td>76</td>\n",
       "      <td>7</td>\n",
       "      <td>0.086111</td>\n",
       "    </tr>\n",
       "    <tr>\n",
       "      <th>452161</th>\n",
       "      <td>64089</td>\n",
       "      <td>35</td>\n",
       "      <td>Infinium</td>\n",
       "      <td>tdm168</td>\n",
       "      <td>3.0</td>\n",
       "      <td>Bière de Champagne / Bière Brut</td>\n",
       "      <td>After all the posted disappointment, I was hes...</td>\n",
       "      <td>188</td>\n",
       "      <td>12</td>\n",
       "      <td>0.075056</td>\n",
       "    </tr>\n",
       "    <tr>\n",
       "      <th>452600</th>\n",
       "      <td>38366</td>\n",
       "      <td>35</td>\n",
       "      <td>Samuel Adams Dunkelweizen</td>\n",
       "      <td>arboristfish</td>\n",
       "      <td>3.0</td>\n",
       "      <td>Dunkelweizen</td>\n",
       "      <td>This beer pours a cloudy copperish color, with...</td>\n",
       "      <td>70</td>\n",
       "      <td>7</td>\n",
       "      <td>0.160714</td>\n",
       "    </tr>\n",
       "    <tr>\n",
       "      <th>482526</th>\n",
       "      <td>115</td>\n",
       "      <td>156</td>\n",
       "      <td>Butthead Doppelbock</td>\n",
       "      <td>jsprain1</td>\n",
       "      <td>2.5</td>\n",
       "      <td>Doppelbock</td>\n",
       "      <td>A- pours a red tinted brown. But seriously, wh...</td>\n",
       "      <td>160</td>\n",
       "      <td>14</td>\n",
       "      <td>0.083820</td>\n",
       "    </tr>\n",
       "    <tr>\n",
       "      <th>491565</th>\n",
       "      <td>38842</td>\n",
       "      <td>4317</td>\n",
       "      <td>Chili Pepper Ale</td>\n",
       "      <td>jsprain1</td>\n",
       "      <td>2.0</td>\n",
       "      <td>Chile Beer</td>\n",
       "      <td>A- Pours an ever so slightly hazed pale golden...</td>\n",
       "      <td>127</td>\n",
       "      <td>15</td>\n",
       "      <td>0.011806</td>\n",
       "    </tr>\n",
       "  </tbody>\n",
       "</table>\n",
       "<p>77 rows × 10 columns</p>\n",
       "</div>"
      ],
      "text/plain": [
       "        beer_beerId  beer_brewerId  \\\n",
       "3963           2671            140   \n",
       "5807           1503             35   \n",
       "6867            246             81   \n",
       "8643          11757           1199   \n",
       "8943            576            113   \n",
       "...             ...            ...   \n",
       "425876          747            221   \n",
       "452161        64089             35   \n",
       "452600        38366             35   \n",
       "482526          115            156   \n",
       "491565        38842           4317   \n",
       "\n",
       "                                         beer_name review_profileName  \\\n",
       "3963    Sierra Nevada Bigfoot Barleywine Style Ale       arboristfish   \n",
       "5807                               Sam Adams Light       arboristfish   \n",
       "6867                           Heineken Lager Beer          PhillyCop   \n",
       "8643                      Founders Breakfast Stout           jsprain1   \n",
       "8943                  Samuel Smith's Nut Brown Ale           jsprain1   \n",
       "...                                            ...                ...   \n",
       "425876                                Dragon Stout           jsprain1   \n",
       "452161                                    Infinium             tdm168   \n",
       "452600                   Samuel Adams Dunkelweizen       arboristfish   \n",
       "482526                         Butthead Doppelbock           jsprain1   \n",
       "491565                            Chili Pepper Ale           jsprain1   \n",
       "\n",
       "        review_overall                        beer_style  \\\n",
       "3963               5.0               American Barleywine   \n",
       "5807               5.0                       Light Lager   \n",
       "6867               5.0                   Euro Pale Lager   \n",
       "8643               5.0  American Double / Imperial Stout   \n",
       "8943               5.0                 English Brown Ale   \n",
       "...                ...                               ...   \n",
       "425876             3.0            Foreign / Export Stout   \n",
       "452161             3.0   Bière de Champagne / Bière Brut   \n",
       "452600             3.0                      Dunkelweizen   \n",
       "482526             2.5                        Doppelbock   \n",
       "491565             2.0                        Chile Beer   \n",
       "\n",
       "                                              review_text  tokens_count  \\\n",
       "3963    The beer pours a cloudy amber color, and the h...            97   \n",
       "5807    There arent to many beers that I would give a ...            79   \n",
       "6867    I love this beer! I always find Heineken to be...            53   \n",
       "8643    A- Pours a very dark brown. It approaches but ...           216   \n",
       "8943    A- Pours a readish brown with a perfect head t...           105   \n",
       "...                                                   ...           ...   \n",
       "425876  A- Pours an almost solid black with a thin kha...            76   \n",
       "452161  After all the posted disappointment, I was hes...           188   \n",
       "452600  This beer pours a cloudy copperish color, with...            70   \n",
       "482526  A- pours a red tinted brown. But seriously, wh...           160   \n",
       "491565  A- Pours an ever so slightly hazed pale golden...           127   \n",
       "\n",
       "        sents  sentiment_pol  \n",
       "3963        7       0.124333  \n",
       "5807        7       0.414643  \n",
       "6867        5       0.335208  \n",
       "8643       16       0.263623  \n",
       "8943       12       0.475463  \n",
       "...       ...            ...  \n",
       "425876      7       0.086111  \n",
       "452161     12       0.075056  \n",
       "452600      7       0.160714  \n",
       "482526     14       0.083820  \n",
       "491565     15       0.011806  \n",
       "\n",
       "[77 rows x 10 columns]"
      ]
     },
     "execution_count": 47,
     "metadata": {},
     "output_type": "execute_result"
    }
   ],
   "source": [
    "beer_text_reviews.loc[beer_text_reviews['review_profileName'].isin(group_similar)].drop_duplicates(['beer_style'])"
   ]
  }
 ],
 "metadata": {
  "kernelspec": {
   "display_name": "Python 3.10.6 ('venv': venv)",
   "language": "python",
   "name": "python3"
  },
  "language_info": {
   "codemirror_mode": {
    "name": "ipython",
    "version": 3
   },
   "file_extension": ".py",
   "mimetype": "text/x-python",
   "name": "python",
   "nbconvert_exporter": "python",
   "pygments_lexer": "ipython3",
   "version": "3.10.6"
  },
  "orig_nbformat": 4,
  "vscode": {
   "interpreter": {
    "hash": "cd7fbf7b7cd6c0a55c0246343e4d94ef8488c6aa681985364a37c3e8d9ee40fa"
   }
  }
 },
 "nbformat": 4,
 "nbformat_minor": 2
}
